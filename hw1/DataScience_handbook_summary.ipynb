{
 "cells": [
  {
   "cell_type": "markdown",
   "metadata": {},
   "source": [
    "# The Importance of Taking Chances and Giving Back #\n",
    "\n",
    "<u>Introduction</u>\n",
    "<p>\n",
    "DJ Patil is currently the VP of Product at RelateIQ.  DJ holds a BA in Mathematics and a PHD degree in Applied Mathematics.  DJ is also the co-coiner of the term <b>Data Scientist</b> and co-author of the Harvard Business Review article: <i>Data Scientist: Sexiest Job of the 21st Century</i>\n",
    "</p>\n",
    "\n",
    "<u>Summary</u>\n",
    "\n",
    "<p>\n",
    "Similar to a lot of people in academia, DJ was put in a box where the industry thinks all his knowledge are in theory and not in hands-on practical experience.  DJ discovered that you must put yourself out there to display and sell how your knowledge can be apply in practical real-life situation.  At the same time, finding the right organisation that is willing to take the risk and use your knowledge.  The first step is to prove you can do something by making something.  \n",
    "</p>\n",
    "\n",
    "<p>\n",
    "He suggested the following steps to take yourself out of your usual box and prove to the industry what you're worth:\n",
    "<ol>\n",
    "<li>Define your own title - find out what other people think when you mention your title (Data Analyst, programmer, Mathematician, etc).  From there, you can figure out what you're supposed to do and where are the industry knowlege gap you might have</li>\n",
    "<li> Research and upskill your knowledge gap - You would need to be able to have the language and skillset in order to prove to people you can do what you say</li>\n",
    "<li>Be flexible and multi-dimensional - Learn to disocver as you're doing it.  You don't need to have all the answer before you go out to talk to people about your idea</li>\n",
    "</ol>\n",
    "</p>\n",
    "\n",
    "<p>\n",
    "DJ see that the future of Data Science is still evolving.  We need to find out what we are passionate about in the industry you're interested in and finding how to use Data to improve.  It can be in operation, acadamia, product, or any other field.  The keypoint is using data science tool to connect the dots of the field you're interested in.  Be dynamic and working on simple things\n",
    "</p>\n",
    "\n",
    "\n"
   ]
  }
 ],
 "metadata": {
  "anaconda-cloud": {},
  "kernelspec": {
   "display_name": "Python [conda root]",
   "language": "python",
   "name": "conda-root-py"
  },
  "language_info": {
   "codemirror_mode": {
    "name": "ipython",
    "version": 2
   },
   "file_extension": ".py",
   "mimetype": "text/x-python",
   "name": "python",
   "nbconvert_exporter": "python",
   "pygments_lexer": "ipython2",
   "version": "2.7.12"
  }
 },
 "nbformat": 4,
 "nbformat_minor": 1
}
