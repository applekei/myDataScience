{
 "cells": [
  {
   "cell_type": "markdown",
   "metadata": {},
   "source": [
    "<h3>Looking into relationship between the number of gym, inactive rate, GSP, and health issue </h3>\n",
    "<h4>Hypothesis:</h4>\n",
    "<ul>\n",
    "    <li>GSP (Gross State Product) can contribute to the state obesity rate.</li>\n",
    "    \n",
    "    <li>The higher of GSP means the wealthier of state => more time for gym and outdoor activities</li>\n",
    "    <li> higher GSP, gyms, lower inactive rate => lower obesity rate </li>\n",
    "\n",
    "</ul>\n",
    "\n",
    "<h4>Test area</h4>\n",
    "<ul>\n",
    "    <li>USA</li>\n",
    "    <li>Australia</li>\n",
    "    <li>Europe</li>\n",
    "    <li>Asia</li>\n",
    "</ul>"
   ]
  },
  {
   "cell_type": "code",
   "execution_count": 1,
   "metadata": {
    "collapsed": true
   },
   "outputs": [],
   "source": [
    "import pandas\n",
    "import matplotlib\n",
    "%matplotlib inline"
   ]
  },
  {
   "cell_type": "code",
   "execution_count": 86,
   "metadata": {
    "collapsed": false
   },
   "outputs": [],
   "source": [
    "US_GSP = pandas.read_csv('US_GSP.csv')\n",
    "US_inactiveRate = pandas.read_csv('US_inactive_rate.csv');\n",
    "US_obesity = pandas.read_csv('US_obesity_rate.csv');"
   ]
  },
  {
   "cell_type": "code",
   "execution_count": 3,
   "metadata": {
    "collapsed": false
   },
   "outputs": [],
   "source": [
    "#First let's have a look at the 2015 data\n",
    "US_states = US_GSP.States\n",
    "GSP_2015 = US_GSP['2015']\n",
    "inactive_2015 = US_inactiveRate['2015']\n",
    "obesity_2015 = US_obesity['2015']"
   ]
  },
  {
   "cell_type": "code",
   "execution_count": 4,
   "metadata": {
    "collapsed": false
   },
   "outputs": [],
   "source": [
    "data2015 = pandas.DataFrame(\n",
    "    {\n",
    "        'states': US_states,\n",
    "        'GSP': GSP_2015,\n",
    "        'Inactive_rate': inactive_2015,\n",
    "        'Obesity_rate': obesity_2015\n",
    "    }\n",
    ")"
   ]
  },
  {
   "cell_type": "code",
   "execution_count": 5,
   "metadata": {
    "collapsed": false
   },
   "outputs": [
    {
     "data": {
      "text/html": [
       "<div>\n",
       "<table border=\"1\" class=\"dataframe\">\n",
       "  <thead>\n",
       "    <tr style=\"text-align: right;\">\n",
       "      <th></th>\n",
       "      <th>GSP</th>\n",
       "      <th>Inactive_rate</th>\n",
       "      <th>Obesity_rate</th>\n",
       "    </tr>\n",
       "    <tr>\n",
       "      <th>states</th>\n",
       "      <th></th>\n",
       "      <th></th>\n",
       "      <th></th>\n",
       "    </tr>\n",
       "  </thead>\n",
       "  <tbody>\n",
       "    <tr>\n",
       "      <th>Alabama</th>\n",
       "      <td>42.67</td>\n",
       "      <td>31.9</td>\n",
       "      <td>35.6</td>\n",
       "    </tr>\n",
       "    <tr>\n",
       "      <th>Alaska</th>\n",
       "      <td>81.80</td>\n",
       "      <td>22.0</td>\n",
       "      <td>29.8</td>\n",
       "    </tr>\n",
       "    <tr>\n",
       "      <th>Arizona</th>\n",
       "      <td>43.27</td>\n",
       "      <td>24.7</td>\n",
       "      <td>28.4</td>\n",
       "    </tr>\n",
       "    <tr>\n",
       "      <th>Arkansas</th>\n",
       "      <td>41.13</td>\n",
       "      <td>34.2</td>\n",
       "      <td>34.5</td>\n",
       "    </tr>\n",
       "    <tr>\n",
       "      <th>California</th>\n",
       "      <td>61.92</td>\n",
       "      <td>20.0</td>\n",
       "      <td>24.2</td>\n",
       "    </tr>\n",
       "    <tr>\n",
       "      <th>Colorado</th>\n",
       "      <td>58.01</td>\n",
       "      <td>17.9</td>\n",
       "      <td>20.2</td>\n",
       "    </tr>\n",
       "    <tr>\n",
       "      <th>Connecticut</th>\n",
       "      <td>72.33</td>\n",
       "      <td>23.5</td>\n",
       "      <td>25.3</td>\n",
       "    </tr>\n",
       "    <tr>\n",
       "      <th>Delaware</th>\n",
       "      <td>69.93</td>\n",
       "      <td>29.4</td>\n",
       "      <td>29.7</td>\n",
       "    </tr>\n",
       "    <tr>\n",
       "      <th>District of Columbia</th>\n",
       "      <td>181.19</td>\n",
       "      <td>19.4</td>\n",
       "      <td>22.1</td>\n",
       "    </tr>\n",
       "    <tr>\n",
       "      <th>Florida</th>\n",
       "      <td>42.59</td>\n",
       "      <td>26.2</td>\n",
       "      <td>26.8</td>\n",
       "    </tr>\n",
       "    <tr>\n",
       "      <th>Georgia</th>\n",
       "      <td>48.57</td>\n",
       "      <td>27.3</td>\n",
       "      <td>30.7</td>\n",
       "    </tr>\n",
       "    <tr>\n",
       "      <th>Hawaii</th>\n",
       "      <td>55.59</td>\n",
       "      <td>22.5</td>\n",
       "      <td>22.7</td>\n",
       "    </tr>\n",
       "    <tr>\n",
       "      <th>Idaho</th>\n",
       "      <td>39.39</td>\n",
       "      <td>21.2</td>\n",
       "      <td>28.6</td>\n",
       "    </tr>\n",
       "    <tr>\n",
       "      <th>Illinois</th>\n",
       "      <td>59.47</td>\n",
       "      <td>24.8</td>\n",
       "      <td>30.8</td>\n",
       "    </tr>\n",
       "    <tr>\n",
       "      <th>Indiana</th>\n",
       "      <td>49.33</td>\n",
       "      <td>29.4</td>\n",
       "      <td>31.3</td>\n",
       "    </tr>\n",
       "    <tr>\n",
       "      <th>Iowa</th>\n",
       "      <td>52.81</td>\n",
       "      <td>26.3</td>\n",
       "      <td>32.1</td>\n",
       "    </tr>\n",
       "    <tr>\n",
       "      <th>Kansas</th>\n",
       "      <td>50.22</td>\n",
       "      <td>26.5</td>\n",
       "      <td>34.2</td>\n",
       "    </tr>\n",
       "    <tr>\n",
       "      <th>Kentucky</th>\n",
       "      <td>41.59</td>\n",
       "      <td>32.5</td>\n",
       "      <td>34.6</td>\n",
       "    </tr>\n",
       "    <tr>\n",
       "      <th>Louisiana</th>\n",
       "      <td>54.16</td>\n",
       "      <td>31.9</td>\n",
       "      <td>36.2</td>\n",
       "    </tr>\n",
       "    <tr>\n",
       "      <th>Maine</th>\n",
       "      <td>41.48</td>\n",
       "      <td>24.8</td>\n",
       "      <td>30.0</td>\n",
       "    </tr>\n",
       "    <tr>\n",
       "      <th>Maryland</th>\n",
       "      <td>60.10</td>\n",
       "      <td>24.1</td>\n",
       "      <td>28.9</td>\n",
       "    </tr>\n",
       "    <tr>\n",
       "      <th>Massachusetts</th>\n",
       "      <td>69.71</td>\n",
       "      <td>26.5</td>\n",
       "      <td>24.3</td>\n",
       "    </tr>\n",
       "    <tr>\n",
       "      <th>Michigan</th>\n",
       "      <td>46.59</td>\n",
       "      <td>25.5</td>\n",
       "      <td>31.2</td>\n",
       "    </tr>\n",
       "    <tr>\n",
       "      <th>Minnesota</th>\n",
       "      <td>60.26</td>\n",
       "      <td>21.8</td>\n",
       "      <td>26.1</td>\n",
       "    </tr>\n",
       "    <tr>\n",
       "      <th>Mississippi</th>\n",
       "      <td>35.72</td>\n",
       "      <td>36.8</td>\n",
       "      <td>35.6</td>\n",
       "    </tr>\n",
       "    <tr>\n",
       "      <th>Missouri</th>\n",
       "      <td>47.21</td>\n",
       "      <td>27.0</td>\n",
       "      <td>32.4</td>\n",
       "    </tr>\n",
       "    <tr>\n",
       "      <th>Montana</th>\n",
       "      <td>44.31</td>\n",
       "      <td>22.5</td>\n",
       "      <td>23.6</td>\n",
       "    </tr>\n",
       "    <tr>\n",
       "      <th>Nebraska</th>\n",
       "      <td>59.18</td>\n",
       "      <td>25.3</td>\n",
       "      <td>31.4</td>\n",
       "    </tr>\n",
       "    <tr>\n",
       "      <th>Nevada</th>\n",
       "      <td>48.64</td>\n",
       "      <td>24.7</td>\n",
       "      <td>26.7</td>\n",
       "    </tr>\n",
       "    <tr>\n",
       "      <th>New Hampshire</th>\n",
       "      <td>53.83</td>\n",
       "      <td>22.6</td>\n",
       "      <td>26.3</td>\n",
       "    </tr>\n",
       "    <tr>\n",
       "      <th>New Jersey</th>\n",
       "      <td>64.07</td>\n",
       "      <td>27.2</td>\n",
       "      <td>25.6</td>\n",
       "    </tr>\n",
       "    <tr>\n",
       "      <th>New Mexico</th>\n",
       "      <td>41.55</td>\n",
       "      <td>22.6</td>\n",
       "      <td>28.8</td>\n",
       "    </tr>\n",
       "    <tr>\n",
       "      <th>New York</th>\n",
       "      <td>72.97</td>\n",
       "      <td>29.3</td>\n",
       "      <td>25.0</td>\n",
       "    </tr>\n",
       "    <tr>\n",
       "      <th>North Carolina</th>\n",
       "      <td>50.16</td>\n",
       "      <td>26.2</td>\n",
       "      <td>30.1</td>\n",
       "    </tr>\n",
       "    <tr>\n",
       "      <th>North Dakota</th>\n",
       "      <td>70.93</td>\n",
       "      <td>26.8</td>\n",
       "      <td>21.0</td>\n",
       "    </tr>\n",
       "    <tr>\n",
       "      <th>Ohio</th>\n",
       "      <td>51.05</td>\n",
       "      <td>27.0</td>\n",
       "      <td>29.8</td>\n",
       "    </tr>\n",
       "    <tr>\n",
       "      <th>Oklahoma</th>\n",
       "      <td>46.29</td>\n",
       "      <td>33.2</td>\n",
       "      <td>33.9</td>\n",
       "    </tr>\n",
       "    <tr>\n",
       "      <th>Oregon</th>\n",
       "      <td>56.01</td>\n",
       "      <td>18.8</td>\n",
       "      <td>30.1</td>\n",
       "    </tr>\n",
       "    <tr>\n",
       "      <th>Pennsylvania</th>\n",
       "      <td>52.93</td>\n",
       "      <td>27.8</td>\n",
       "      <td>30.0</td>\n",
       "    </tr>\n",
       "    <tr>\n",
       "      <th>Rhode Island</th>\n",
       "      <td>53.32</td>\n",
       "      <td>28.1</td>\n",
       "      <td>26.0</td>\n",
       "    </tr>\n",
       "    <tr>\n",
       "      <th>South Carolina</th>\n",
       "      <td>40.21</td>\n",
       "      <td>26.7</td>\n",
       "      <td>31.7</td>\n",
       "    </tr>\n",
       "    <tr>\n",
       "      <th>South Dakota</th>\n",
       "      <td>51.90</td>\n",
       "      <td>21.5</td>\n",
       "      <td>30.4</td>\n",
       "    </tr>\n",
       "    <tr>\n",
       "      <th>Tennessee</th>\n",
       "      <td>46.53</td>\n",
       "      <td>30.4</td>\n",
       "      <td>33.8</td>\n",
       "    </tr>\n",
       "    <tr>\n",
       "      <th>Texas</th>\n",
       "      <td>59.99</td>\n",
       "      <td>29.5</td>\n",
       "      <td>32.4</td>\n",
       "    </tr>\n",
       "    <tr>\n",
       "      <th>Utah</th>\n",
       "      <td>48.97</td>\n",
       "      <td>20.3</td>\n",
       "      <td>24.5</td>\n",
       "    </tr>\n",
       "    <tr>\n",
       "      <th>Vermont</th>\n",
       "      <td>47.52</td>\n",
       "      <td>22.2</td>\n",
       "      <td>25.1</td>\n",
       "    </tr>\n",
       "    <tr>\n",
       "      <th>Virginia</th>\n",
       "      <td>56.89</td>\n",
       "      <td>25.1</td>\n",
       "      <td>29.2</td>\n",
       "    </tr>\n",
       "    <tr>\n",
       "      <th>Washington</th>\n",
       "      <td>62.21</td>\n",
       "      <td>19.0</td>\n",
       "      <td>26.4</td>\n",
       "    </tr>\n",
       "    <tr>\n",
       "      <th>West Virginia</th>\n",
       "      <td>38.57</td>\n",
       "      <td>30.8</td>\n",
       "      <td>35.6</td>\n",
       "    </tr>\n",
       "    <tr>\n",
       "      <th>Wisconsin</th>\n",
       "      <td>51.46</td>\n",
       "      <td>21.6</td>\n",
       "      <td>30.7</td>\n",
       "    </tr>\n",
       "    <tr>\n",
       "      <th>Wyoming</th>\n",
       "      <td>68.54</td>\n",
       "      <td>26.2</td>\n",
       "      <td>29.0</td>\n",
       "    </tr>\n",
       "  </tbody>\n",
       "</table>\n",
       "</div>"
      ],
      "text/plain": [
       "                         GSP  Inactive_rate  Obesity_rate\n",
       "states                                                   \n",
       "Alabama                42.67           31.9          35.6\n",
       "Alaska                 81.80           22.0          29.8\n",
       "Arizona                43.27           24.7          28.4\n",
       "Arkansas               41.13           34.2          34.5\n",
       "California             61.92           20.0          24.2\n",
       "Colorado               58.01           17.9          20.2\n",
       "Connecticut            72.33           23.5          25.3\n",
       "Delaware               69.93           29.4          29.7\n",
       "District of Columbia  181.19           19.4          22.1\n",
       "Florida                42.59           26.2          26.8\n",
       "Georgia                48.57           27.3          30.7\n",
       "Hawaii                 55.59           22.5          22.7\n",
       "Idaho                  39.39           21.2          28.6\n",
       "Illinois               59.47           24.8          30.8\n",
       "Indiana                49.33           29.4          31.3\n",
       "Iowa                   52.81           26.3          32.1\n",
       "Kansas                 50.22           26.5          34.2\n",
       "Kentucky               41.59           32.5          34.6\n",
       "Louisiana              54.16           31.9          36.2\n",
       "Maine                  41.48           24.8          30.0\n",
       "Maryland               60.10           24.1          28.9\n",
       "Massachusetts          69.71           26.5          24.3\n",
       "Michigan               46.59           25.5          31.2\n",
       "Minnesota              60.26           21.8          26.1\n",
       "Mississippi            35.72           36.8          35.6\n",
       "Missouri               47.21           27.0          32.4\n",
       "Montana                44.31           22.5          23.6\n",
       "Nebraska               59.18           25.3          31.4\n",
       "Nevada                 48.64           24.7          26.7\n",
       "New Hampshire          53.83           22.6          26.3\n",
       "New Jersey             64.07           27.2          25.6\n",
       "New Mexico             41.55           22.6          28.8\n",
       "New York               72.97           29.3          25.0\n",
       "North Carolina         50.16           26.2          30.1\n",
       "North Dakota           70.93           26.8          21.0\n",
       "Ohio                   51.05           27.0          29.8\n",
       "Oklahoma               46.29           33.2          33.9\n",
       "Oregon                 56.01           18.8          30.1\n",
       "Pennsylvania           52.93           27.8          30.0\n",
       "Rhode Island           53.32           28.1          26.0\n",
       "South Carolina         40.21           26.7          31.7\n",
       "South Dakota           51.90           21.5          30.4\n",
       "Tennessee              46.53           30.4          33.8\n",
       "Texas                  59.99           29.5          32.4\n",
       "Utah                   48.97           20.3          24.5\n",
       "Vermont                47.52           22.2          25.1\n",
       "Virginia               56.89           25.1          29.2\n",
       "Washington             62.21           19.0          26.4\n",
       "West Virginia          38.57           30.8          35.6\n",
       "Wisconsin              51.46           21.6          30.7\n",
       "Wyoming                68.54           26.2          29.0"
      ]
     },
     "execution_count": 5,
     "metadata": {},
     "output_type": "execute_result"
    }
   ],
   "source": [
    "data2015.set_index('states')"
   ]
  },
  {
   "cell_type": "code",
   "execution_count": 6,
   "metadata": {
    "collapsed": false
   },
   "outputs": [
    {
     "data": {
      "text/plain": [
       "array([[<matplotlib.axes._subplots.AxesSubplot object at 0x11387bb50>,\n",
       "        <matplotlib.axes._subplots.AxesSubplot object at 0x113bc7a10>,\n",
       "        <matplotlib.axes._subplots.AxesSubplot object at 0x113c04490>],\n",
       "       [<matplotlib.axes._subplots.AxesSubplot object at 0x113cb9810>,\n",
       "        <matplotlib.axes._subplots.AxesSubplot object at 0x113d3d690>,\n",
       "        <matplotlib.axes._subplots.AxesSubplot object at 0x113da1a10>],\n",
       "       [<matplotlib.axes._subplots.AxesSubplot object at 0x113f62890>,\n",
       "        <matplotlib.axes._subplots.AxesSubplot object at 0x113db8650>,\n",
       "        <matplotlib.axes._subplots.AxesSubplot object at 0x116a0c750>]], dtype=object)"
      ]
     },
     "execution_count": 6,
     "metadata": {},
     "output_type": "execute_result"
    },
    {
     "data": {
      "image/png": "[encoded data removed]",
      "text/plain": [
       "<matplotlib.figure.Figure at 0x1055a3750>"
      ]
     },
     "metadata": {},
     "output_type": "display_data"
    }
   ],
   "source": [
    "pandas.scatter_matrix(data2015)"
   ]
  },
  {
   "cell_type": "markdown",
   "metadata": {},
   "source": [
    "<ul>\n",
    "    <li>The higher of inactive rate, the high obesity rate</li>\n",
    "    <li>Can't see much relationship between GSP and inactive rate</li>\n",
    "</ul>"
   ]
  },
  {
   "cell_type": "code",
   "execution_count": 7,
   "metadata": {
    "collapsed": true
   },
   "outputs": [],
   "source": [
    "import sklearn.linear_model"
   ]
  },
  {
   "cell_type": "code",
   "execution_count": 8,
   "metadata": {
    "collapsed": true
   },
   "outputs": [],
   "source": [
    "ransac = sklearn.linear_model.RANSACRegressor()"
   ]
  },
  {
   "cell_type": "code",
   "execution_count": 9,
   "metadata": {
    "collapsed": true
   },
   "outputs": [],
   "source": [
    "X = data2015[ ['GSP', 'Inactive_rate'] ]\n",
    "# prediction y-axis = price\n",
    "y = data2015.Obesity_rate"
   ]
  },
  {
   "cell_type": "code",
   "execution_count": 10,
   "metadata": {
    "collapsed": false
   },
   "outputs": [
    {
     "data": {
      "text/plain": [
       "RANSACRegressor(base_estimator=None, is_data_valid=None, is_model_valid=None,\n",
       "        max_trials=100, min_samples=None, random_state=None,\n",
       "        residual_metric=None, residual_threshold=None, stop_n_inliers=inf,\n",
       "        stop_probability=0.99, stop_score=inf)"
      ]
     },
     "execution_count": 10,
     "metadata": {},
     "output_type": "execute_result"
    }
   ],
   "source": [
    "ransac.fit(X,y)"
   ]
  },
  {
   "cell_type": "code",
   "execution_count": 11,
   "metadata": {
    "collapsed": false
   },
   "outputs": [
    {
     "data": {
      "text/plain": [
       "array([-0.06827097,  0.84020559])"
      ]
     },
     "execution_count": 11,
     "metadata": {},
     "output_type": "execute_result"
    }
   ],
   "source": [
    "ransac.estimator_.coef_"
   ]
  },
  {
   "cell_type": "markdown",
   "metadata": {},
   "source": [
    "<ul>\n",
    "    <li>It looks like as GSP increase, obesity rate also increase.  This is different from what I was assuming</li>\n",
    "     <li>For every increase of Inactive rate, obesity rate also increase.  Align with my asummption</li>\n",
    "        \n",
    "</ul>"
   ]
  },
  {
   "cell_type": "code",
   "execution_count": 12,
   "metadata": {
    "collapsed": true
   },
   "outputs": [],
   "source": [
    "ols = sklearn.linear_model.LinearRegression()"
   ]
  },
  {
   "cell_type": "code",
   "execution_count": 13,
   "metadata": {
    "collapsed": true
   },
   "outputs": [],
   "source": [
    "X = data2015[ ['GSP', 'Inactive_rate'] ]\n",
    "# prediction y-axis = price\n",
    "y = data2015.Obesity_rate"
   ]
  },
  {
   "cell_type": "code",
   "execution_count": 14,
   "metadata": {
    "collapsed": false
   },
   "outputs": [
    {
     "data": {
      "text/plain": [
       "LinearRegression(copy_X=True, fit_intercept=True, n_jobs=1, normalize=False)"
      ]
     },
     "execution_count": 14,
     "metadata": {},
     "output_type": "execute_result"
    }
   ],
   "source": [
    "ols.fit(X,y)"
   ]
  },
  {
   "cell_type": "code",
   "execution_count": 15,
   "metadata": {
    "collapsed": false
   },
   "outputs": [
    {
     "data": {
      "text/plain": [
       "array([-0.04774191,  0.56562818])"
      ]
     },
     "execution_count": 15,
     "metadata": {},
     "output_type": "execute_result"
    }
   ],
   "source": [
    "ols.coef_"
   ]
  },
  {
   "cell_type": "markdown",
   "metadata": {},
   "source": [
    "<p>Using Ordinary Least Square method</p>\n",
    "<ul>\n",
    "    <li>the increase of GSP will result of decrease in obesity rate</li>\n",
    "    <li>the increase of inactive rate will result in increase of obesity rate</li>\n",
    "</ul>\n",
    "<p>Result aligns with my hyponthesis</p>"
   ]
  },
  {
   "cell_type": "code",
   "execution_count": 16,
   "metadata": {
    "collapsed": true
   },
   "outputs": [],
   "source": [
    "US_diabetes = pandas.read_csv('US_diabete.csv');\n",
    "US_hypertension = pandas.read_csv('US_hypertension.csv');"
   ]
  },
  {
   "cell_type": "code",
   "execution_count": 17,
   "metadata": {
    "collapsed": true
   },
   "outputs": [],
   "source": [
    "data2015['Diabete_rate'] = US_diabetes['2015']\n",
    "data2015['Hypertension_rate'] = US_hypertension['2015']"
   ]
  },
  {
   "cell_type": "code",
   "execution_count": 18,
   "metadata": {
    "collapsed": false
   },
   "outputs": [
    {
     "data": {
      "text/html": [
       "<div>\n",
       "<table border=\"1\" class=\"dataframe\">\n",
       "  <thead>\n",
       "    <tr style=\"text-align: right;\">\n",
       "      <th></th>\n",
       "      <th>GSP</th>\n",
       "      <th>Inactive_rate</th>\n",
       "      <th>Obesity_rate</th>\n",
       "      <th>Diabete_rate</th>\n",
       "      <th>Hypertension_rate</th>\n",
       "    </tr>\n",
       "    <tr>\n",
       "      <th>states</th>\n",
       "      <th></th>\n",
       "      <th></th>\n",
       "      <th></th>\n",
       "      <th></th>\n",
       "      <th></th>\n",
       "    </tr>\n",
       "  </thead>\n",
       "  <tbody>\n",
       "    <tr>\n",
       "      <th>Alabama</th>\n",
       "      <td>42.67</td>\n",
       "      <td>31.9</td>\n",
       "      <td>35.6</td>\n",
       "      <td>13.5</td>\n",
       "      <td>40.4</td>\n",
       "    </tr>\n",
       "    <tr>\n",
       "      <th>Alaska</th>\n",
       "      <td>81.80</td>\n",
       "      <td>22.0</td>\n",
       "      <td>29.8</td>\n",
       "      <td>7.6</td>\n",
       "      <td>27.5</td>\n",
       "    </tr>\n",
       "    <tr>\n",
       "      <th>Arizona</th>\n",
       "      <td>43.27</td>\n",
       "      <td>24.7</td>\n",
       "      <td>28.4</td>\n",
       "      <td>10.1</td>\n",
       "      <td>30.8</td>\n",
       "    </tr>\n",
       "    <tr>\n",
       "      <th>Arkansas</th>\n",
       "      <td>41.13</td>\n",
       "      <td>34.2</td>\n",
       "      <td>34.5</td>\n",
       "      <td>12.6</td>\n",
       "      <td>39.3</td>\n",
       "    </tr>\n",
       "    <tr>\n",
       "      <th>California</th>\n",
       "      <td>61.92</td>\n",
       "      <td>20.0</td>\n",
       "      <td>24.2</td>\n",
       "      <td>10.0</td>\n",
       "      <td>28.5</td>\n",
       "    </tr>\n",
       "    <tr>\n",
       "      <th>Colorado</th>\n",
       "      <td>58.01</td>\n",
       "      <td>17.9</td>\n",
       "      <td>20.2</td>\n",
       "      <td>6.8</td>\n",
       "      <td>25.7</td>\n",
       "    </tr>\n",
       "    <tr>\n",
       "      <th>Connecticut</th>\n",
       "      <td>72.33</td>\n",
       "      <td>23.5</td>\n",
       "      <td>25.3</td>\n",
       "      <td>9.3</td>\n",
       "      <td>30.4</td>\n",
       "    </tr>\n",
       "    <tr>\n",
       "      <th>Delaware</th>\n",
       "      <td>69.93</td>\n",
       "      <td>29.4</td>\n",
       "      <td>29.7</td>\n",
       "      <td>11.5</td>\n",
       "      <td>34.5</td>\n",
       "    </tr>\n",
       "    <tr>\n",
       "      <th>District of Columbia</th>\n",
       "      <td>181.19</td>\n",
       "      <td>19.4</td>\n",
       "      <td>22.1</td>\n",
       "      <td>8.5</td>\n",
       "      <td>29.4</td>\n",
       "    </tr>\n",
       "    <tr>\n",
       "      <th>Florida</th>\n",
       "      <td>42.59</td>\n",
       "      <td>26.2</td>\n",
       "      <td>26.8</td>\n",
       "      <td>11.3</td>\n",
       "      <td>33.5</td>\n",
       "    </tr>\n",
       "    <tr>\n",
       "      <th>Georgia</th>\n",
       "      <td>48.57</td>\n",
       "      <td>27.3</td>\n",
       "      <td>30.7</td>\n",
       "      <td>11.3</td>\n",
       "      <td>36.2</td>\n",
       "    </tr>\n",
       "    <tr>\n",
       "      <th>Hawaii</th>\n",
       "      <td>55.59</td>\n",
       "      <td>22.5</td>\n",
       "      <td>22.7</td>\n",
       "      <td>8.5</td>\n",
       "      <td>32.0</td>\n",
       "    </tr>\n",
       "    <tr>\n",
       "      <th>Idaho</th>\n",
       "      <td>39.39</td>\n",
       "      <td>21.2</td>\n",
       "      <td>28.6</td>\n",
       "      <td>8.1</td>\n",
       "      <td>31.2</td>\n",
       "    </tr>\n",
       "    <tr>\n",
       "      <th>Illinois</th>\n",
       "      <td>59.47</td>\n",
       "      <td>24.8</td>\n",
       "      <td>30.8</td>\n",
       "      <td>9.9</td>\n",
       "      <td>30.8</td>\n",
       "    </tr>\n",
       "    <tr>\n",
       "      <th>Indiana</th>\n",
       "      <td>49.33</td>\n",
       "      <td>29.4</td>\n",
       "      <td>31.3</td>\n",
       "      <td>11.4</td>\n",
       "      <td>32.4</td>\n",
       "    </tr>\n",
       "    <tr>\n",
       "      <th>Iowa</th>\n",
       "      <td>52.81</td>\n",
       "      <td>26.3</td>\n",
       "      <td>32.1</td>\n",
       "      <td>8.8</td>\n",
       "      <td>30.6</td>\n",
       "    </tr>\n",
       "    <tr>\n",
       "      <th>Kansas</th>\n",
       "      <td>50.22</td>\n",
       "      <td>26.5</td>\n",
       "      <td>34.2</td>\n",
       "      <td>9.7</td>\n",
       "      <td>31.6</td>\n",
       "    </tr>\n",
       "    <tr>\n",
       "      <th>Kentucky</th>\n",
       "      <td>41.59</td>\n",
       "      <td>32.5</td>\n",
       "      <td>34.6</td>\n",
       "      <td>13.4</td>\n",
       "      <td>39.0</td>\n",
       "    </tr>\n",
       "    <tr>\n",
       "      <th>Louisiana</th>\n",
       "      <td>54.16</td>\n",
       "      <td>31.9</td>\n",
       "      <td>36.2</td>\n",
       "      <td>12.7</td>\n",
       "      <td>39.3</td>\n",
       "    </tr>\n",
       "    <tr>\n",
       "      <th>Maine</th>\n",
       "      <td>41.48</td>\n",
       "      <td>24.8</td>\n",
       "      <td>30.0</td>\n",
       "      <td>9.9</td>\n",
       "      <td>34.1</td>\n",
       "    </tr>\n",
       "    <tr>\n",
       "      <th>Maryland</th>\n",
       "      <td>60.10</td>\n",
       "      <td>24.1</td>\n",
       "      <td>28.9</td>\n",
       "      <td>10.3</td>\n",
       "      <td>32.5</td>\n",
       "    </tr>\n",
       "    <tr>\n",
       "      <th>Massachusetts</th>\n",
       "      <td>69.71</td>\n",
       "      <td>26.5</td>\n",
       "      <td>24.3</td>\n",
       "      <td>8.9</td>\n",
       "      <td>29.6</td>\n",
       "    </tr>\n",
       "    <tr>\n",
       "      <th>Michigan</th>\n",
       "      <td>46.59</td>\n",
       "      <td>25.5</td>\n",
       "      <td>31.2</td>\n",
       "      <td>10.7</td>\n",
       "      <td>33.1</td>\n",
       "    </tr>\n",
       "    <tr>\n",
       "      <th>Minnesota</th>\n",
       "      <td>60.26</td>\n",
       "      <td>21.8</td>\n",
       "      <td>26.1</td>\n",
       "      <td>7.6</td>\n",
       "      <td>26.3</td>\n",
       "    </tr>\n",
       "    <tr>\n",
       "      <th>Mississippi</th>\n",
       "      <td>35.72</td>\n",
       "      <td>36.8</td>\n",
       "      <td>35.6</td>\n",
       "      <td>14.7</td>\n",
       "      <td>42.4</td>\n",
       "    </tr>\n",
       "    <tr>\n",
       "      <th>Missouri</th>\n",
       "      <td>47.21</td>\n",
       "      <td>27.0</td>\n",
       "      <td>32.4</td>\n",
       "      <td>11.5</td>\n",
       "      <td>34.1</td>\n",
       "    </tr>\n",
       "    <tr>\n",
       "      <th>Montana</th>\n",
       "      <td>44.31</td>\n",
       "      <td>22.5</td>\n",
       "      <td>23.6</td>\n",
       "      <td>7.9</td>\n",
       "      <td>29.1</td>\n",
       "    </tr>\n",
       "    <tr>\n",
       "      <th>Nebraska</th>\n",
       "      <td>59.18</td>\n",
       "      <td>25.3</td>\n",
       "      <td>31.4</td>\n",
       "      <td>8.8</td>\n",
       "      <td>29.9</td>\n",
       "    </tr>\n",
       "    <tr>\n",
       "      <th>Nevada</th>\n",
       "      <td>48.64</td>\n",
       "      <td>24.7</td>\n",
       "      <td>26.7</td>\n",
       "      <td>9.7</td>\n",
       "      <td>28.3</td>\n",
       "    </tr>\n",
       "    <tr>\n",
       "      <th>New Hampshire</th>\n",
       "      <td>53.83</td>\n",
       "      <td>22.6</td>\n",
       "      <td>26.3</td>\n",
       "      <td>8.1</td>\n",
       "      <td>29.2</td>\n",
       "    </tr>\n",
       "    <tr>\n",
       "      <th>New Jersey</th>\n",
       "      <td>64.07</td>\n",
       "      <td>27.2</td>\n",
       "      <td>25.6</td>\n",
       "      <td>9.0</td>\n",
       "      <td>30.9</td>\n",
       "    </tr>\n",
       "    <tr>\n",
       "      <th>New Mexico</th>\n",
       "      <td>41.55</td>\n",
       "      <td>22.6</td>\n",
       "      <td>28.8</td>\n",
       "      <td>11.5</td>\n",
       "      <td>30.0</td>\n",
       "    </tr>\n",
       "    <tr>\n",
       "      <th>New York</th>\n",
       "      <td>72.97</td>\n",
       "      <td>29.3</td>\n",
       "      <td>25.0</td>\n",
       "      <td>9.8</td>\n",
       "      <td>29.3</td>\n",
       "    </tr>\n",
       "    <tr>\n",
       "      <th>North Carolina</th>\n",
       "      <td>50.16</td>\n",
       "      <td>26.2</td>\n",
       "      <td>30.1</td>\n",
       "      <td>10.7</td>\n",
       "      <td>35.2</td>\n",
       "    </tr>\n",
       "    <tr>\n",
       "      <th>North Dakota</th>\n",
       "      <td>70.93</td>\n",
       "      <td>26.8</td>\n",
       "      <td>21.0</td>\n",
       "      <td>8.7</td>\n",
       "      <td>30.4</td>\n",
       "    </tr>\n",
       "    <tr>\n",
       "      <th>Ohio</th>\n",
       "      <td>51.05</td>\n",
       "      <td>27.0</td>\n",
       "      <td>29.8</td>\n",
       "      <td>11.0</td>\n",
       "      <td>34.3</td>\n",
       "    </tr>\n",
       "    <tr>\n",
       "      <th>Oklahoma</th>\n",
       "      <td>46.29</td>\n",
       "      <td>33.2</td>\n",
       "      <td>33.9</td>\n",
       "      <td>11.7</td>\n",
       "      <td>36.2</td>\n",
       "    </tr>\n",
       "    <tr>\n",
       "      <th>Oregon</th>\n",
       "      <td>56.01</td>\n",
       "      <td>18.8</td>\n",
       "      <td>30.1</td>\n",
       "      <td>10.7</td>\n",
       "      <td>30.1</td>\n",
       "    </tr>\n",
       "    <tr>\n",
       "      <th>Pennsylvania</th>\n",
       "      <td>52.93</td>\n",
       "      <td>27.8</td>\n",
       "      <td>30.0</td>\n",
       "      <td>10.4</td>\n",
       "      <td>32.5</td>\n",
       "    </tr>\n",
       "    <tr>\n",
       "      <th>Rhode Island</th>\n",
       "      <td>53.32</td>\n",
       "      <td>28.1</td>\n",
       "      <td>26.0</td>\n",
       "      <td>9.0</td>\n",
       "      <td>32.4</td>\n",
       "    </tr>\n",
       "    <tr>\n",
       "      <th>South Carolina</th>\n",
       "      <td>40.21</td>\n",
       "      <td>26.7</td>\n",
       "      <td>31.7</td>\n",
       "      <td>11.8</td>\n",
       "      <td>37.8</td>\n",
       "    </tr>\n",
       "    <tr>\n",
       "      <th>South Dakota</th>\n",
       "      <td>51.90</td>\n",
       "      <td>21.5</td>\n",
       "      <td>30.4</td>\n",
       "      <td>9.3</td>\n",
       "      <td>29.9</td>\n",
       "    </tr>\n",
       "    <tr>\n",
       "      <th>Tennessee</th>\n",
       "      <td>46.53</td>\n",
       "      <td>30.4</td>\n",
       "      <td>33.8</td>\n",
       "      <td>12.7</td>\n",
       "      <td>38.5</td>\n",
       "    </tr>\n",
       "    <tr>\n",
       "      <th>Texas</th>\n",
       "      <td>59.99</td>\n",
       "      <td>29.5</td>\n",
       "      <td>32.4</td>\n",
       "      <td>11.4</td>\n",
       "      <td>29.5</td>\n",
       "    </tr>\n",
       "    <tr>\n",
       "      <th>Utah</th>\n",
       "      <td>48.97</td>\n",
       "      <td>20.3</td>\n",
       "      <td>24.5</td>\n",
       "      <td>8.0</td>\n",
       "      <td>23.6</td>\n",
       "    </tr>\n",
       "    <tr>\n",
       "      <th>Vermont</th>\n",
       "      <td>47.52</td>\n",
       "      <td>22.2</td>\n",
       "      <td>25.1</td>\n",
       "      <td>8.2</td>\n",
       "      <td>29.4</td>\n",
       "    </tr>\n",
       "    <tr>\n",
       "      <th>Virginia</th>\n",
       "      <td>56.89</td>\n",
       "      <td>25.1</td>\n",
       "      <td>29.2</td>\n",
       "      <td>10.3</td>\n",
       "      <td>33.2</td>\n",
       "    </tr>\n",
       "    <tr>\n",
       "      <th>Washington</th>\n",
       "      <td>62.21</td>\n",
       "      <td>19.0</td>\n",
       "      <td>26.4</td>\n",
       "      <td>8.4</td>\n",
       "      <td>29.7</td>\n",
       "    </tr>\n",
       "    <tr>\n",
       "      <th>West Virginia</th>\n",
       "      <td>38.57</td>\n",
       "      <td>30.8</td>\n",
       "      <td>35.6</td>\n",
       "      <td>14.5</td>\n",
       "      <td>42.7</td>\n",
       "    </tr>\n",
       "    <tr>\n",
       "      <th>Wisconsin</th>\n",
       "      <td>51.46</td>\n",
       "      <td>21.6</td>\n",
       "      <td>30.7</td>\n",
       "      <td>8.4</td>\n",
       "      <td>29.6</td>\n",
       "    </tr>\n",
       "    <tr>\n",
       "      <th>Wyoming</th>\n",
       "      <td>68.54</td>\n",
       "      <td>26.2</td>\n",
       "      <td>29.0</td>\n",
       "      <td>8.4</td>\n",
       "      <td>29.9</td>\n",
       "    </tr>\n",
       "  </tbody>\n",
       "</table>\n",
       "</div>"
      ],
      "text/plain": [
       "                         GSP  Inactive_rate  Obesity_rate  Diabete_rate  \\\n",
       "states                                                                    \n",
       "Alabama                42.67           31.9          35.6          13.5   \n",
       "Alaska                 81.80           22.0          29.8           7.6   \n",
       "Arizona                43.27           24.7          28.4          10.1   \n",
       "Arkansas               41.13           34.2          34.5          12.6   \n",
       "California             61.92           20.0          24.2          10.0   \n",
       "Colorado               58.01           17.9          20.2           6.8   \n",
       "Connecticut            72.33           23.5          25.3           9.3   \n",
       "Delaware               69.93           29.4          29.7          11.5   \n",
       "District of Columbia  181.19           19.4          22.1           8.5   \n",
       "Florida                42.59           26.2          26.8          11.3   \n",
       "Georgia                48.57           27.3          30.7          11.3   \n",
       "Hawaii                 55.59           22.5          22.7           8.5   \n",
       "Idaho                  39.39           21.2          28.6           8.1   \n",
       "Illinois               59.47           24.8          30.8           9.9   \n",
       "Indiana                49.33           29.4          31.3          11.4   \n",
       "Iowa                   52.81           26.3          32.1           8.8   \n",
       "Kansas                 50.22           26.5          34.2           9.7   \n",
       "Kentucky               41.59           32.5          34.6          13.4   \n",
       "Louisiana              54.16           31.9          36.2          12.7   \n",
       "Maine                  41.48           24.8          30.0           9.9   \n",
       "Maryland               60.10           24.1          28.9          10.3   \n",
       "Massachusetts          69.71           26.5          24.3           8.9   \n",
       "Michigan               46.59           25.5          31.2          10.7   \n",
       "Minnesota              60.26           21.8          26.1           7.6   \n",
       "Mississippi            35.72           36.8          35.6          14.7   \n",
       "Missouri               47.21           27.0          32.4          11.5   \n",
       "Montana                44.31           22.5          23.6           7.9   \n",
       "Nebraska               59.18           25.3          31.4           8.8   \n",
       "Nevada                 48.64           24.7          26.7           9.7   \n",
       "New Hampshire          53.83           22.6          26.3           8.1   \n",
       "New Jersey             64.07           27.2          25.6           9.0   \n",
       "New Mexico             41.55           22.6          28.8          11.5   \n",
       "New York               72.97           29.3          25.0           9.8   \n",
       "North Carolina         50.16           26.2          30.1          10.7   \n",
       "North Dakota           70.93           26.8          21.0           8.7   \n",
       "Ohio                   51.05           27.0          29.8          11.0   \n",
       "Oklahoma               46.29           33.2          33.9          11.7   \n",
       "Oregon                 56.01           18.8          30.1          10.7   \n",
       "Pennsylvania           52.93           27.8          30.0          10.4   \n",
       "Rhode Island           53.32           28.1          26.0           9.0   \n",
       "South Carolina         40.21           26.7          31.7          11.8   \n",
       "South Dakota           51.90           21.5          30.4           9.3   \n",
       "Tennessee              46.53           30.4          33.8          12.7   \n",
       "Texas                  59.99           29.5          32.4          11.4   \n",
       "Utah                   48.97           20.3          24.5           8.0   \n",
       "Vermont                47.52           22.2          25.1           8.2   \n",
       "Virginia               56.89           25.1          29.2          10.3   \n",
       "Washington             62.21           19.0          26.4           8.4   \n",
       "West Virginia          38.57           30.8          35.6          14.5   \n",
       "Wisconsin              51.46           21.6          30.7           8.4   \n",
       "Wyoming                68.54           26.2          29.0           8.4   \n",
       "\n",
       "                      Hypertension_rate  \n",
       "states                                   \n",
       "Alabama                            40.4  \n",
       "Alaska                             27.5  \n",
       "Arizona                            30.8  \n",
       "Arkansas                           39.3  \n",
       "California                         28.5  \n",
       "Colorado                           25.7  \n",
       "Connecticut                        30.4  \n",
       "Delaware                           34.5  \n",
       "District of Columbia               29.4  \n",
       "Florida                            33.5  \n",
       "Georgia                            36.2  \n",
       "Hawaii                             32.0  \n",
       "Idaho                              31.2  \n",
       "Illinois                           30.8  \n",
       "Indiana                            32.4  \n",
       "Iowa                               30.6  \n",
       "Kansas                             31.6  \n",
       "Kentucky                           39.0  \n",
       "Louisiana                          39.3  \n",
       "Maine                              34.1  \n",
       "Maryland                           32.5  \n",
       "Massachusetts                      29.6  \n",
       "Michigan                           33.1  \n",
       "Minnesota                          26.3  \n",
       "Mississippi                        42.4  \n",
       "Missouri                           34.1  \n",
       "Montana                            29.1  \n",
       "Nebraska                           29.9  \n",
       "Nevada                             28.3  \n",
       "New Hampshire                      29.2  \n",
       "New Jersey                         30.9  \n",
       "New Mexico                         30.0  \n",
       "New York                           29.3  \n",
       "North Carolina                     35.2  \n",
       "North Dakota                       30.4  \n",
       "Ohio                               34.3  \n",
       "Oklahoma                           36.2  \n",
       "Oregon                             30.1  \n",
       "Pennsylvania                       32.5  \n",
       "Rhode Island                       32.4  \n",
       "South Carolina                     37.8  \n",
       "South Dakota                       29.9  \n",
       "Tennessee                          38.5  \n",
       "Texas                              29.5  \n",
       "Utah                               23.6  \n",
       "Vermont                            29.4  \n",
       "Virginia                           33.2  \n",
       "Washington                         29.7  \n",
       "West Virginia                      42.7  \n",
       "Wisconsin                          29.6  \n",
       "Wyoming                            29.9  "
      ]
     },
     "execution_count": 18,
     "metadata": {},
     "output_type": "execute_result"
    }
   ],
   "source": [
    "data2015.set_index('states')"
   ]
  },
  {
   "cell_type": "code",
   "execution_count": 19,
   "metadata": {
    "collapsed": false
   },
   "outputs": [
    {
     "data": {
      "text/plain": [
       "array([[<matplotlib.axes._subplots.AxesSubplot object at 0x119110190>,\n",
       "        <matplotlib.axes._subplots.AxesSubplot object at 0x1191ab290>,\n",
       "        <matplotlib.axes._subplots.AxesSubplot object at 0x11930c1d0>,\n",
       "        <matplotlib.axes._subplots.AxesSubplot object at 0x11938d390>,\n",
       "        <matplotlib.axes._subplots.AxesSubplot object at 0x119322490>],\n",
       "       [<matplotlib.axes._subplots.AxesSubplot object at 0x11947f1d0>,\n",
       "        <matplotlib.axes._subplots.AxesSubplot object at 0x119601050>,\n",
       "        <matplotlib.axes._subplots.AxesSubplot object at 0x119663710>,\n",
       "        <matplotlib.axes._subplots.AxesSubplot object at 0x1196e6690>,\n",
       "        <matplotlib.axes._subplots.AxesSubplot object at 0x11984b5d0>],\n",
       "       [<matplotlib.axes._subplots.AxesSubplot object at 0x1198cd550>,\n",
       "        <matplotlib.axes._subplots.AxesSubplot object at 0x119904690>,\n",
       "        <matplotlib.axes._subplots.AxesSubplot object at 0x1199c03d0>,\n",
       "        <matplotlib.axes._subplots.AxesSubplot object at 0x119b42250>,\n",
       "        <matplotlib.axes._subplots.AxesSubplot object at 0x119ba8450>],\n",
       "       [<matplotlib.axes._subplots.AxesSubplot object at 0x119c2a2d0>,\n",
       "        <matplotlib.axes._subplots.AxesSubplot object at 0x119c83f90>,\n",
       "        <matplotlib.axes._subplots.AxesSubplot object at 0x119e1d0d0>,\n",
       "        <matplotlib.axes._subplots.AxesSubplot object at 0x119e93f10>,\n",
       "        <matplotlib.axes._subplots.AxesSubplot object at 0x119f01990>],\n",
       "       [<matplotlib.axes._subplots.AxesSubplot object at 0x119f85810>,\n",
       "        <matplotlib.axes._subplots.AxesSubplot object at 0x119fec850>,\n",
       "        <matplotlib.axes._subplots.AxesSubplot object at 0x11a06d7d0>,\n",
       "        <matplotlib.axes._subplots.AxesSubplot object at 0x11a0a7810>,\n",
       "        <matplotlib.axes._subplots.AxesSubplot object at 0x11a261590>]], dtype=object)"
      ]
     },
     "execution_count": 19,
     "metadata": {},
     "output_type": "execute_result"
    },
    {
     "data": {
      "image/png": "[encoded data removed]",
      "text/plain": [
       "<matplotlib.figure.Figure at 0x11911aa50>"
      ]
     },
     "metadata": {},
     "output_type": "display_data"
    }
   ],
   "source": [
    "pandas.scatter_matrix(data2015, figsize = (10,10))"
   ]
  },
  {
   "cell_type": "code",
   "execution_count": 20,
   "metadata": {
    "collapsed": true
   },
   "outputs": [],
   "source": [
    "regressor = sklearn.linear_model.TheilSenRegressor()"
   ]
  },
  {
   "cell_type": "code",
   "execution_count": 21,
   "metadata": {
    "collapsed": true
   },
   "outputs": [],
   "source": [
    "X = data2015[ ['GSP', 'Inactive_rate', 'Diabete_rate', 'Hypertension_rate'] ]\n",
    "# prediction y-axis = price\n",
    "y = data2015.Obesity_rate"
   ]
  },
  {
   "cell_type": "code",
   "execution_count": 22,
   "metadata": {
    "collapsed": false
   },
   "outputs": [
    {
     "data": {
      "text/plain": [
       "TheilSenRegressor(copy_X=True, fit_intercept=True, max_iter=300,\n",
       "         max_subpopulation=10000, n_jobs=1, n_subsamples=None,\n",
       "         random_state=None, tol=0.001, verbose=False)"
      ]
     },
     "execution_count": 22,
     "metadata": {},
     "output_type": "execute_result"
    }
   ],
   "source": [
    "regressor.fit(X,y)"
   ]
  },
  {
   "cell_type": "code",
   "execution_count": 23,
   "metadata": {
    "collapsed": false
   },
   "outputs": [
    {
     "data": {
      "text/plain": [
       "array([-0.05066944,  0.15362306,  0.71886067,  0.225466  ])"
      ]
     },
     "execution_count": 23,
     "metadata": {},
     "output_type": "execute_result"
    }
   ],
   "source": [
    "regressor.coef_"
   ]
  },
  {
   "cell_type": "code",
   "execution_count": 24,
   "metadata": {
    "collapsed": true
   },
   "outputs": [],
   "source": [
    "ols = sklearn.linear_model.LinearRegression()"
   ]
  },
  {
   "cell_type": "code",
   "execution_count": 25,
   "metadata": {
    "collapsed": true
   },
   "outputs": [],
   "source": [
    "X = data2015[ ['GSP', 'Inactive_rate', 'Diabete_rate', 'Hypertension_rate'] ]\n",
    "# prediction y-axis = price\n",
    "y = data2015.Obesity_rate"
   ]
  },
  {
   "cell_type": "code",
   "execution_count": 26,
   "metadata": {
    "collapsed": false
   },
   "outputs": [
    {
     "data": {
      "text/plain": [
       "LinearRegression(copy_X=True, fit_intercept=True, n_jobs=1, normalize=False)"
      ]
     },
     "execution_count": 26,
     "metadata": {},
     "output_type": "execute_result"
    }
   ],
   "source": [
    "ols.fit(X,y)"
   ]
  },
  {
   "cell_type": "code",
   "execution_count": 27,
   "metadata": {
    "collapsed": false
   },
   "outputs": [
    {
     "data": {
      "text/plain": [
       "array([-0.03399168,  0.12697257,  0.9078203 ,  0.19198792])"
      ]
     },
     "execution_count": 27,
     "metadata": {},
     "output_type": "execute_result"
    }
   ],
   "source": [
    "ols.coef_"
   ]
  },
  {
   "cell_type": "markdown",
   "metadata": {},
   "source": [
    "<p>Both model show that the following:</p>\n",
    "<ul>\n",
    "    <li>The increase of GSP (the richer of the people), the lower of obesity rate.  We can probably look into the number of gym memebership to confirm that.</li>\n",
    "    <li>The increase of inactive rate, diabete rate, and hypertension rate contribute to the increase of obesity</li>\n",
    "    \n",
    "</ul>"
   ]
  },
  {
   "cell_type": "code",
   "execution_count": 28,
   "metadata": {
    "collapsed": true
   },
   "outputs": [],
   "source": [
    "obesity_prediction = ols.predict(X)"
   ]
  },
  {
   "cell_type": "code",
   "execution_count": 29,
   "metadata": {
    "collapsed": false
   },
   "outputs": [
    {
     "data": {
      "text/plain": [
       "<matplotlib.collections.PathCollection at 0x11bb0fdd0>"
      ]
     },
     "execution_count": 29,
     "metadata": {},
     "output_type": "execute_result"
    },
    {
     "data": {
      "image/png": "[encoded data removed]",
      "text/plain": [
       "<matplotlib.figure.Figure at 0x1170fd0d0>"
      ]
     },
     "metadata": {},
     "output_type": "display_data"
    }
   ],
   "source": [
    "matplotlib.pyplot.scatter(data2015['Obesity_rate'], obesity_prediction)"
   ]
  },
  {
   "cell_type": "markdown",
   "metadata": {},
   "source": [
    "<h3>Next Steps</h3>\n",
    "<ul>\n",
    "    <li>look into if the increase of GSP result in increase of gym membership</li>\n",
    "    <li>look into if the increase of gym membership result in decrease of inactivite rate and obesity rate</li>\n",
    "    <li>test the above with the states with the higher increase of GSP over the years (2012- 2015)</li>\n",
    "    <li>check to see if the same trend also happen in Australia, Europe and Asia</li>\n",
    "</ul>"
   ]
  },
  {
   "cell_type": "markdown",
   "metadata": {},
   "source": [
    "<h3>Homework 3 - Clustering</h3>"
   ]
  },
  {
   "cell_type": "markdown",
   "metadata": {},
   "source": [
    "<b>Hypotheis:</b>\n",
    "<ul>\n",
    "    <li>People living in the Midwest area will have a lower activity rate and higher obesity.  From what I remember when I lived in the States, public transportation in Midwest are not that structure.  Everyone drives as soon as thye steps out from their houses.</li>\n",
    "    <li>New York, California, and Colorado would have a higher activity rate because they seem to be quite active based on my impression.</li>\n",
    "</ul>\n"
   ]
  },
  {
   "cell_type": "code",
   "execution_count": 30,
   "metadata": {
    "collapsed": true
   },
   "outputs": [],
   "source": [
    "import pandas"
   ]
  },
  {
   "cell_type": "code",
   "execution_count": 31,
   "metadata": {
    "collapsed": true
   },
   "outputs": [],
   "source": [
    "import sklearn.cluster\n",
    "import numpy"
   ]
  },
  {
   "cell_type": "code",
   "execution_count": 32,
   "metadata": {
    "collapsed": false
   },
   "outputs": [
    {
     "data": {
      "text/html": [
       "<div>\n",
       "<table border=\"1\" class=\"dataframe\">\n",
       "  <thead>\n",
       "    <tr style=\"text-align: right;\">\n",
       "      <th></th>\n",
       "      <th>Inactive_rate</th>\n",
       "      <th>Obesity_rate</th>\n",
       "      <th>Diabete_rate</th>\n",
       "      <th>Hypertension_rate</th>\n",
       "    </tr>\n",
       "  </thead>\n",
       "  <tbody>\n",
       "    <tr>\n",
       "      <th>0</th>\n",
       "      <td>31.9</td>\n",
       "      <td>35.6</td>\n",
       "      <td>13.5</td>\n",
       "      <td>40.4</td>\n",
       "    </tr>\n",
       "    <tr>\n",
       "      <th>1</th>\n",
       "      <td>22.0</td>\n",
       "      <td>29.8</td>\n",
       "      <td>7.6</td>\n",
       "      <td>27.5</td>\n",
       "    </tr>\n",
       "    <tr>\n",
       "      <th>2</th>\n",
       "      <td>24.7</td>\n",
       "      <td>28.4</td>\n",
       "      <td>10.1</td>\n",
       "      <td>30.8</td>\n",
       "    </tr>\n",
       "    <tr>\n",
       "      <th>3</th>\n",
       "      <td>34.2</td>\n",
       "      <td>34.5</td>\n",
       "      <td>12.6</td>\n",
       "      <td>39.3</td>\n",
       "    </tr>\n",
       "    <tr>\n",
       "      <th>4</th>\n",
       "      <td>20.0</td>\n",
       "      <td>24.2</td>\n",
       "      <td>10.0</td>\n",
       "      <td>28.5</td>\n",
       "    </tr>\n",
       "    <tr>\n",
       "      <th>5</th>\n",
       "      <td>17.9</td>\n",
       "      <td>20.2</td>\n",
       "      <td>6.8</td>\n",
       "      <td>25.7</td>\n",
       "    </tr>\n",
       "    <tr>\n",
       "      <th>6</th>\n",
       "      <td>23.5</td>\n",
       "      <td>25.3</td>\n",
       "      <td>9.3</td>\n",
       "      <td>30.4</td>\n",
       "    </tr>\n",
       "    <tr>\n",
       "      <th>7</th>\n",
       "      <td>29.4</td>\n",
       "      <td>29.7</td>\n",
       "      <td>11.5</td>\n",
       "      <td>34.5</td>\n",
       "    </tr>\n",
       "    <tr>\n",
       "      <th>8</th>\n",
       "      <td>19.4</td>\n",
       "      <td>22.1</td>\n",
       "      <td>8.5</td>\n",
       "      <td>29.4</td>\n",
       "    </tr>\n",
       "    <tr>\n",
       "      <th>9</th>\n",
       "      <td>26.2</td>\n",
       "      <td>26.8</td>\n",
       "      <td>11.3</td>\n",
       "      <td>33.5</td>\n",
       "    </tr>\n",
       "    <tr>\n",
       "      <th>10</th>\n",
       "      <td>27.3</td>\n",
       "      <td>30.7</td>\n",
       "      <td>11.3</td>\n",
       "      <td>36.2</td>\n",
       "    </tr>\n",
       "    <tr>\n",
       "      <th>11</th>\n",
       "      <td>22.5</td>\n",
       "      <td>22.7</td>\n",
       "      <td>8.5</td>\n",
       "      <td>32.0</td>\n",
       "    </tr>\n",
       "    <tr>\n",
       "      <th>12</th>\n",
       "      <td>21.2</td>\n",
       "      <td>28.6</td>\n",
       "      <td>8.1</td>\n",
       "      <td>31.2</td>\n",
       "    </tr>\n",
       "    <tr>\n",
       "      <th>13</th>\n",
       "      <td>24.8</td>\n",
       "      <td>30.8</td>\n",
       "      <td>9.9</td>\n",
       "      <td>30.8</td>\n",
       "    </tr>\n",
       "    <tr>\n",
       "      <th>14</th>\n",
       "      <td>29.4</td>\n",
       "      <td>31.3</td>\n",
       "      <td>11.4</td>\n",
       "      <td>32.4</td>\n",
       "    </tr>\n",
       "    <tr>\n",
       "      <th>15</th>\n",
       "      <td>26.3</td>\n",
       "      <td>32.1</td>\n",
       "      <td>8.8</td>\n",
       "      <td>30.6</td>\n",
       "    </tr>\n",
       "    <tr>\n",
       "      <th>16</th>\n",
       "      <td>26.5</td>\n",
       "      <td>34.2</td>\n",
       "      <td>9.7</td>\n",
       "      <td>31.6</td>\n",
       "    </tr>\n",
       "    <tr>\n",
       "      <th>17</th>\n",
       "      <td>32.5</td>\n",
       "      <td>34.6</td>\n",
       "      <td>13.4</td>\n",
       "      <td>39.0</td>\n",
       "    </tr>\n",
       "    <tr>\n",
       "      <th>18</th>\n",
       "      <td>31.9</td>\n",
       "      <td>36.2</td>\n",
       "      <td>12.7</td>\n",
       "      <td>39.3</td>\n",
       "    </tr>\n",
       "    <tr>\n",
       "      <th>19</th>\n",
       "      <td>24.8</td>\n",
       "      <td>30.0</td>\n",
       "      <td>9.9</td>\n",
       "      <td>34.1</td>\n",
       "    </tr>\n",
       "    <tr>\n",
       "      <th>20</th>\n",
       "      <td>24.1</td>\n",
       "      <td>28.9</td>\n",
       "      <td>10.3</td>\n",
       "      <td>32.5</td>\n",
       "    </tr>\n",
       "    <tr>\n",
       "      <th>21</th>\n",
       "      <td>26.5</td>\n",
       "      <td>24.3</td>\n",
       "      <td>8.9</td>\n",
       "      <td>29.6</td>\n",
       "    </tr>\n",
       "    <tr>\n",
       "      <th>22</th>\n",
       "      <td>25.5</td>\n",
       "      <td>31.2</td>\n",
       "      <td>10.7</td>\n",
       "      <td>33.1</td>\n",
       "    </tr>\n",
       "    <tr>\n",
       "      <th>23</th>\n",
       "      <td>21.8</td>\n",
       "      <td>26.1</td>\n",
       "      <td>7.6</td>\n",
       "      <td>26.3</td>\n",
       "    </tr>\n",
       "    <tr>\n",
       "      <th>24</th>\n",
       "      <td>36.8</td>\n",
       "      <td>35.6</td>\n",
       "      <td>14.7</td>\n",
       "      <td>42.4</td>\n",
       "    </tr>\n",
       "    <tr>\n",
       "      <th>25</th>\n",
       "      <td>27.0</td>\n",
       "      <td>32.4</td>\n",
       "      <td>11.5</td>\n",
       "      <td>34.1</td>\n",
       "    </tr>\n",
       "    <tr>\n",
       "      <th>26</th>\n",
       "      <td>22.5</td>\n",
       "      <td>23.6</td>\n",
       "      <td>7.9</td>\n",
       "      <td>29.1</td>\n",
       "    </tr>\n",
       "    <tr>\n",
       "      <th>27</th>\n",
       "      <td>25.3</td>\n",
       "      <td>31.4</td>\n",
       "      <td>8.8</td>\n",
       "      <td>29.9</td>\n",
       "    </tr>\n",
       "    <tr>\n",
       "      <th>28</th>\n",
       "      <td>24.7</td>\n",
       "      <td>26.7</td>\n",
       "      <td>9.7</td>\n",
       "      <td>28.3</td>\n",
       "    </tr>\n",
       "    <tr>\n",
       "      <th>29</th>\n",
       "      <td>22.6</td>\n",
       "      <td>26.3</td>\n",
       "      <td>8.1</td>\n",
       "      <td>29.2</td>\n",
       "    </tr>\n",
       "    <tr>\n",
       "      <th>30</th>\n",
       "      <td>27.2</td>\n",
       "      <td>25.6</td>\n",
       "      <td>9.0</td>\n",
       "      <td>30.9</td>\n",
       "    </tr>\n",
       "    <tr>\n",
       "      <th>31</th>\n",
       "      <td>22.6</td>\n",
       "      <td>28.8</td>\n",
       "      <td>11.5</td>\n",
       "      <td>30.0</td>\n",
       "    </tr>\n",
       "    <tr>\n",
       "      <th>32</th>\n",
       "      <td>29.3</td>\n",
       "      <td>25.0</td>\n",
       "      <td>9.8</td>\n",
       "      <td>29.3</td>\n",
       "    </tr>\n",
       "    <tr>\n",
       "      <th>33</th>\n",
       "      <td>26.2</td>\n",
       "      <td>30.1</td>\n",
       "      <td>10.7</td>\n",
       "      <td>35.2</td>\n",
       "    </tr>\n",
       "    <tr>\n",
       "      <th>34</th>\n",
       "      <td>26.8</td>\n",
       "      <td>21.0</td>\n",
       "      <td>8.7</td>\n",
       "      <td>30.4</td>\n",
       "    </tr>\n",
       "    <tr>\n",
       "      <th>35</th>\n",
       "      <td>27.0</td>\n",
       "      <td>29.8</td>\n",
       "      <td>11.0</td>\n",
       "      <td>34.3</td>\n",
       "    </tr>\n",
       "    <tr>\n",
       "      <th>36</th>\n",
       "      <td>33.2</td>\n",
       "      <td>33.9</td>\n",
       "      <td>11.7</td>\n",
       "      <td>36.2</td>\n",
       "    </tr>\n",
       "    <tr>\n",
       "      <th>37</th>\n",
       "      <td>18.8</td>\n",
       "      <td>30.1</td>\n",
       "      <td>10.7</td>\n",
       "      <td>30.1</td>\n",
       "    </tr>\n",
       "    <tr>\n",
       "      <th>38</th>\n",
       "      <td>27.8</td>\n",
       "      <td>30.0</td>\n",
       "      <td>10.4</td>\n",
       "      <td>32.5</td>\n",
       "    </tr>\n",
       "    <tr>\n",
       "      <th>39</th>\n",
       "      <td>28.1</td>\n",
       "      <td>26.0</td>\n",
       "      <td>9.0</td>\n",
       "      <td>32.4</td>\n",
       "    </tr>\n",
       "    <tr>\n",
       "      <th>40</th>\n",
       "      <td>26.7</td>\n",
       "      <td>31.7</td>\n",
       "      <td>11.8</td>\n",
       "      <td>37.8</td>\n",
       "    </tr>\n",
       "    <tr>\n",
       "      <th>41</th>\n",
       "      <td>21.5</td>\n",
       "      <td>30.4</td>\n",
       "      <td>9.3</td>\n",
       "      <td>29.9</td>\n",
       "    </tr>\n",
       "    <tr>\n",
       "      <th>42</th>\n",
       "      <td>30.4</td>\n",
       "      <td>33.8</td>\n",
       "      <td>12.7</td>\n",
       "      <td>38.5</td>\n",
       "    </tr>\n",
       "    <tr>\n",
       "      <th>43</th>\n",
       "      <td>29.5</td>\n",
       "      <td>32.4</td>\n",
       "      <td>11.4</td>\n",
       "      <td>29.5</td>\n",
       "    </tr>\n",
       "    <tr>\n",
       "      <th>44</th>\n",
       "      <td>20.3</td>\n",
       "      <td>24.5</td>\n",
       "      <td>8.0</td>\n",
       "      <td>23.6</td>\n",
       "    </tr>\n",
       "    <tr>\n",
       "      <th>45</th>\n",
       "      <td>22.2</td>\n",
       "      <td>25.1</td>\n",
       "      <td>8.2</td>\n",
       "      <td>29.4</td>\n",
       "    </tr>\n",
       "    <tr>\n",
       "      <th>46</th>\n",
       "      <td>25.1</td>\n",
       "      <td>29.2</td>\n",
       "      <td>10.3</td>\n",
       "      <td>33.2</td>\n",
       "    </tr>\n",
       "    <tr>\n",
       "      <th>47</th>\n",
       "      <td>19.0</td>\n",
       "      <td>26.4</td>\n",
       "      <td>8.4</td>\n",
       "      <td>29.7</td>\n",
       "    </tr>\n",
       "    <tr>\n",
       "      <th>48</th>\n",
       "      <td>30.8</td>\n",
       "      <td>35.6</td>\n",
       "      <td>14.5</td>\n",
       "      <td>42.7</td>\n",
       "    </tr>\n",
       "    <tr>\n",
       "      <th>49</th>\n",
       "      <td>21.6</td>\n",
       "      <td>30.7</td>\n",
       "      <td>8.4</td>\n",
       "      <td>29.6</td>\n",
       "    </tr>\n",
       "    <tr>\n",
       "      <th>50</th>\n",
       "      <td>26.2</td>\n",
       "      <td>29.0</td>\n",
       "      <td>8.4</td>\n",
       "      <td>29.9</td>\n",
       "    </tr>\n",
       "  </tbody>\n",
       "</table>\n",
       "</div>"
      ],
      "text/plain": [
       "    Inactive_rate  Obesity_rate  Diabete_rate  Hypertension_rate\n",
       "0            31.9          35.6          13.5               40.4\n",
       "1            22.0          29.8           7.6               27.5\n",
       "2            24.7          28.4          10.1               30.8\n",
       "3            34.2          34.5          12.6               39.3\n",
       "4            20.0          24.2          10.0               28.5\n",
       "5            17.9          20.2           6.8               25.7\n",
       "6            23.5          25.3           9.3               30.4\n",
       "7            29.4          29.7          11.5               34.5\n",
       "8            19.4          22.1           8.5               29.4\n",
       "9            26.2          26.8          11.3               33.5\n",
       "10           27.3          30.7          11.3               36.2\n",
       "11           22.5          22.7           8.5               32.0\n",
       "12           21.2          28.6           8.1               31.2\n",
       "13           24.8          30.8           9.9               30.8\n",
       "14           29.4          31.3          11.4               32.4\n",
       "15           26.3          32.1           8.8               30.6\n",
       "16           26.5          34.2           9.7               31.6\n",
       "17           32.5          34.6          13.4               39.0\n",
       "18           31.9          36.2          12.7               39.3\n",
       "19           24.8          30.0           9.9               34.1\n",
       "20           24.1          28.9          10.3               32.5\n",
       "21           26.5          24.3           8.9               29.6\n",
       "22           25.5          31.2          10.7               33.1\n",
       "23           21.8          26.1           7.6               26.3\n",
       "24           36.8          35.6          14.7               42.4\n",
       "25           27.0          32.4          11.5               34.1\n",
       "26           22.5          23.6           7.9               29.1\n",
       "27           25.3          31.4           8.8               29.9\n",
       "28           24.7          26.7           9.7               28.3\n",
       "29           22.6          26.3           8.1               29.2\n",
       "30           27.2          25.6           9.0               30.9\n",
       "31           22.6          28.8          11.5               30.0\n",
       "32           29.3          25.0           9.8               29.3\n",
       "33           26.2          30.1          10.7               35.2\n",
       "34           26.8          21.0           8.7               30.4\n",
       "35           27.0          29.8          11.0               34.3\n",
       "36           33.2          33.9          11.7               36.2\n",
       "37           18.8          30.1          10.7               30.1\n",
       "38           27.8          30.0          10.4               32.5\n",
       "39           28.1          26.0           9.0               32.4\n",
       "40           26.7          31.7          11.8               37.8\n",
       "41           21.5          30.4           9.3               29.9\n",
       "42           30.4          33.8          12.7               38.5\n",
       "43           29.5          32.4          11.4               29.5\n",
       "44           20.3          24.5           8.0               23.6\n",
       "45           22.2          25.1           8.2               29.4\n",
       "46           25.1          29.2          10.3               33.2\n",
       "47           19.0          26.4           8.4               29.7\n",
       "48           30.8          35.6          14.5               42.7\n",
       "49           21.6          30.7           8.4               29.6\n",
       "50           26.2          29.0           8.4               29.9"
      ]
     },
     "execution_count": 32,
     "metadata": {},
     "output_type": "execute_result"
    }
   ],
   "source": [
    "data_2015 = data2015.drop(data2015.columns[[0, 3]], axis=1)\n",
    "data_2015"
   ]
  },
  {
   "cell_type": "code",
   "execution_count": 33,
   "metadata": {
    "collapsed": false
   },
   "outputs": [],
   "source": [
    "clusterData2015 = numpy.array(data_2015)"
   ]
  },
  {
   "cell_type": "code",
   "execution_count": 34,
   "metadata": {
    "collapsed": false
   },
   "outputs": [
    {
     "data": {
      "text/plain": [
       "array([[ 31.9,  35.6,  13.5,  40.4],\n",
       "       [ 22. ,  29.8,   7.6,  27.5],\n",
       "       [ 24.7,  28.4,  10.1,  30.8],\n",
       "       [ 34.2,  34.5,  12.6,  39.3],\n",
       "       [ 20. ,  24.2,  10. ,  28.5],\n",
       "       [ 17.9,  20.2,   6.8,  25.7],\n",
       "       [ 23.5,  25.3,   9.3,  30.4],\n",
       "       [ 29.4,  29.7,  11.5,  34.5],\n",
       "       [ 19.4,  22.1,   8.5,  29.4],\n",
       "       [ 26.2,  26.8,  11.3,  33.5],\n",
       "       [ 27.3,  30.7,  11.3,  36.2],\n",
       "       [ 22.5,  22.7,   8.5,  32. ],\n",
       "       [ 21.2,  28.6,   8.1,  31.2],\n",
       "       [ 24.8,  30.8,   9.9,  30.8],\n",
       "       [ 29.4,  31.3,  11.4,  32.4],\n",
       "       [ 26.3,  32.1,   8.8,  30.6],\n",
       "       [ 26.5,  34.2,   9.7,  31.6],\n",
       "       [ 32.5,  34.6,  13.4,  39. ],\n",
       "       [ 31.9,  36.2,  12.7,  39.3],\n",
       "       [ 24.8,  30. ,   9.9,  34.1],\n",
       "       [ 24.1,  28.9,  10.3,  32.5],\n",
       "       [ 26.5,  24.3,   8.9,  29.6],\n",
       "       [ 25.5,  31.2,  10.7,  33.1],\n",
       "       [ 21.8,  26.1,   7.6,  26.3],\n",
       "       [ 36.8,  35.6,  14.7,  42.4],\n",
       "       [ 27. ,  32.4,  11.5,  34.1],\n",
       "       [ 22.5,  23.6,   7.9,  29.1],\n",
       "       [ 25.3,  31.4,   8.8,  29.9],\n",
       "       [ 24.7,  26.7,   9.7,  28.3],\n",
       "       [ 22.6,  26.3,   8.1,  29.2],\n",
       "       [ 27.2,  25.6,   9. ,  30.9],\n",
       "       [ 22.6,  28.8,  11.5,  30. ],\n",
       "       [ 29.3,  25. ,   9.8,  29.3],\n",
       "       [ 26.2,  30.1,  10.7,  35.2],\n",
       "       [ 26.8,  21. ,   8.7,  30.4],\n",
       "       [ 27. ,  29.8,  11. ,  34.3],\n",
       "       [ 33.2,  33.9,  11.7,  36.2],\n",
       "       [ 18.8,  30.1,  10.7,  30.1],\n",
       "       [ 27.8,  30. ,  10.4,  32.5],\n",
       "       [ 28.1,  26. ,   9. ,  32.4],\n",
       "       [ 26.7,  31.7,  11.8,  37.8],\n",
       "       [ 21.5,  30.4,   9.3,  29.9],\n",
       "       [ 30.4,  33.8,  12.7,  38.5],\n",
       "       [ 29.5,  32.4,  11.4,  29.5],\n",
       "       [ 20.3,  24.5,   8. ,  23.6],\n",
       "       [ 22.2,  25.1,   8.2,  29.4],\n",
       "       [ 25.1,  29.2,  10.3,  33.2],\n",
       "       [ 19. ,  26.4,   8.4,  29.7],\n",
       "       [ 30.8,  35.6,  14.5,  42.7],\n",
       "       [ 21.6,  30.7,   8.4,  29.6],\n",
       "       [ 26.2,  29. ,   8.4,  29.9]])"
      ]
     },
     "execution_count": 34,
     "metadata": {},
     "output_type": "execute_result"
    }
   ],
   "source": [
    "clusterData2015"
   ]
  },
  {
   "cell_type": "code",
   "execution_count": 35,
   "metadata": {
    "collapsed": true
   },
   "outputs": [],
   "source": [
    "clusterer = sklearn.cluster.KMeans(n_clusters = 3)"
   ]
  },
  {
   "cell_type": "code",
   "execution_count": 36,
   "metadata": {
    "collapsed": false
   },
   "outputs": [
    {
     "data": {
      "text/plain": [
       "array([1, 2, 0, 1, 2, 2, 2, 0, 2, 0, 0, 2, 2, 0, 0, 0, 0, 1, 1, 0, 0, 2, 0,\n",
       "       2, 1, 0, 2, 0, 2, 2, 0, 2, 0, 0, 2, 0, 1, 2, 0, 0, 0, 2, 1, 0, 2, 2,\n",
       "       0, 2, 1, 2, 0], dtype=int32)"
      ]
     },
     "execution_count": 36,
     "metadata": {},
     "output_type": "execute_result"
    }
   ],
   "source": [
    "cluster_suggestion = clusterer.fit_predict(clusterData2015)\n",
    "cluster_suggestion"
   ]
  },
  {
   "cell_type": "code",
   "execution_count": 37,
   "metadata": {
    "collapsed": true
   },
   "outputs": [],
   "source": [
    "import sklearn.metrics"
   ]
  },
  {
   "cell_type": "code",
   "execution_count": 38,
   "metadata": {
    "collapsed": false
   },
   "outputs": [
    {
     "data": {
      "text/plain": [
       "0.39309036965005667"
      ]
     },
     "execution_count": 38,
     "metadata": {},
     "output_type": "execute_result"
    }
   ],
   "source": [
    "sklearn.metrics.silhouette_score(clusterData2015, cluster_suggestion)"
   ]
  },
  {
   "cell_type": "code",
   "execution_count": 39,
   "metadata": {
    "collapsed": true
   },
   "outputs": [],
   "source": [
    "scores = []\n",
    "for i in range (2,20):\n",
    "    clustereri = sklearn.cluster.KMeans(n_clusters = i)\n",
    "    cluster_suggestioni = clustereri.fit_predict(clusterData2015)\n",
    "    scores.append(sklearn.metrics.silhouette_score(clusterData2015, cluster_suggestioni))"
   ]
  },
  {
   "cell_type": "code",
   "execution_count": 40,
   "metadata": {
    "collapsed": false
   },
   "outputs": [
    {
     "data": {
      "text/plain": [
       "[0.41105764236403014,\n",
       " 0.39309036965005667,\n",
       " 0.36663542100555341,\n",
       " 0.33850877573054478,\n",
       " 0.32164683543254574,\n",
       " 0.30516402206199345,\n",
       " 0.3194880486887155,\n",
       " 0.30705437599280622,\n",
       " 0.27005436705784558,\n",
       " 0.26102885046947388,\n",
       " 0.32336506835719947,\n",
       " 0.32523211519438788,\n",
       " 0.25480048433182761,\n",
       " 0.28545014010132252,\n",
       " 0.30009144523519926,\n",
       " 0.26175665391529734,\n",
       " 0.30696086063843414,\n",
       " 0.34556349039753714]"
      ]
     },
     "execution_count": 40,
     "metadata": {},
     "output_type": "execute_result"
    }
   ],
   "source": [
    "scores"
   ]
  },
  {
   "cell_type": "markdown",
   "metadata": {},
   "source": [
    "<p>It looks like my best score is when I have only 2 clusters.  Even then, the score is not that great.  </p>\n",
    "<p>Let's try to look at inactive rate to just obesity rate</p>\n"
   ]
  },
  {
   "cell_type": "code",
   "execution_count": 41,
   "metadata": {
    "collapsed": false
   },
   "outputs": [],
   "source": [
    "data_2015_obesity = data2015.drop(data2015.columns[[0,3,4,5]], axis=1)\n",
    "clusterData2015_obesity = numpy.array(data_2015_obesity)"
   ]
  },
  {
   "cell_type": "code",
   "execution_count": 42,
   "metadata": {
    "collapsed": false
   },
   "outputs": [
    {
     "data": {
      "text/plain": [
       "array([2, 1, 1, 2, 0, 0, 0, 1, 0, 1, 1, 0, 0, 1, 1, 1, 1, 2, 2, 1, 1, 0, 1,\n",
       "       0, 2, 1, 0, 1, 1, 0, 1, 1, 1, 1, 0, 1, 2, 0, 1, 1, 1, 1, 2, 2, 0, 0,\n",
       "       1, 0, 2, 1, 1], dtype=int32)"
      ]
     },
     "execution_count": 42,
     "metadata": {},
     "output_type": "execute_result"
    }
   ],
   "source": [
    "clusterer_obesity = sklearn.cluster.KMeans(n_clusters = 3)\n",
    "cluster_suggestion_obe = clusterer.fit_predict(clusterData2015_obesity)\n",
    "cluster_suggestion_obe"
   ]
  },
  {
   "cell_type": "code",
   "execution_count": 43,
   "metadata": {
    "collapsed": false
   },
   "outputs": [],
   "source": [
    "obe_scores = []\n",
    "for i in range (2,20):\n",
    "    clustereri_obe = sklearn.cluster.KMeans(n_clusters = i)\n",
    "    cluster_suggestion_i_obe = clustereri.fit_predict(clusterData2015_obesity)\n",
    "    obe_scores.append(sklearn.metrics.silhouette_score(clusterData2015_obesity, cluster_suggestion_i_obe))"
   ]
  },
  {
   "cell_type": "code",
   "execution_count": 44,
   "metadata": {
    "collapsed": false
   },
   "outputs": [
    {
     "data": {
      "text/plain": [
       "[0.45991310656264434,\n",
       " 0.46122543027228119,\n",
       " 0.46525567989380684,\n",
       " 0.4344548425161685,\n",
       " 0.45041778938451182,\n",
       " 0.45806703071289739,\n",
       " 0.45743761829134344,\n",
       " 0.47179500629844889,\n",
       " 0.45919641396233996,\n",
       " 0.46575916513346116,\n",
       " 0.45498542995899854,\n",
       " 0.44511021344391249,\n",
       " 0.4458597070778002,\n",
       " 0.42339291031254256,\n",
       " 0.4754892449999179,\n",
       " 0.45673499618767688,\n",
       " 0.45216848376355573,\n",
       " 0.45953313775650634]"
      ]
     },
     "execution_count": 44,
     "metadata": {},
     "output_type": "execute_result"
    }
   ],
   "source": [
    "obe_scores"
   ]
  },
  {
   "cell_type": "markdown",
   "metadata": {},
   "source": [
    "<p>Looking at just Obesity rate and inactive rate, the best cluster I got is with 11 cluster.  But the score is still only at 0.48</p>\n",
    "<p>My assumption of active state = lower obesity might not be correct.  Some state with high active rate and high obesity rate might have a bad diet</p>"
   ]
  },
  {
   "cell_type": "markdown",
   "metadata": {},
   "source": [
    "Let graph it:"
   ]
  },
  {
   "cell_type": "code",
   "execution_count": 45,
   "metadata": {
    "collapsed": false
   },
   "outputs": [
    {
     "data": {
      "text/plain": [
       "array([ 2,  3,  6, 10,  5,  8,  5,  7,  8,  4,  1,  0,  3,  6,  7,  1,  1,\n",
       "        2,  2,  6,  6,  4,  1,  5, 10,  1,  0,  1,  6,  5,  4,  3,  4,  6,\n",
       "        9,  6, 10,  3,  7,  4,  1,  3,  2,  7,  5,  5,  6,  5,  2,  3,  6], dtype=int32)"
      ]
     },
     "execution_count": 45,
     "metadata": {},
     "output_type": "execute_result"
    }
   ],
   "source": [
    "clusterer11 = sklearn.cluster.KMeans(n_clusters = 11)\n",
    "cluster_suggestion11 = clusterer11.fit_predict(clusterData2015_obesity)\n",
    "cluster_suggestion11"
   ]
  },
  {
   "cell_type": "code",
   "execution_count": 46,
   "metadata": {
    "collapsed": false
   },
   "outputs": [],
   "source": [
    "x = clusterData2015_obesity[:,0]\n",
    "y = clusterData2015_obesity[:,1]"
   ]
  },
  {
   "cell_type": "code",
   "execution_count": 47,
   "metadata": {
    "collapsed": true
   },
   "outputs": [],
   "source": [
    "coloring = numpy.array(['purple', 'pink', 'blue', 'orange', 'green', 'black', 'cyan', 'blue', 'yellow','magenta', 'grey'])"
   ]
  },
  {
   "cell_type": "code",
   "execution_count": 48,
   "metadata": {
    "collapsed": false
   },
   "outputs": [
    {
     "data": {
      "text/plain": [
       "<matplotlib.collections.PathCollection at 0x11c5004d0>"
      ]
     },
     "execution_count": 48,
     "metadata": {},
     "output_type": "execute_result"
    },
    {
     "data": {
      "image/png": "[encoded data removed]",
      "text/plain": [
       "<matplotlib.figure.Figure at 0x11c22a8d0>"
      ]
     },
     "metadata": {},
     "output_type": "display_data"
    }
   ],
   "source": [
    "import matplotlib.pyplot\n",
    "%matplotlib inline\n",
    "color_by_cluster = coloring[cluster_suggestion11]\n",
    "matplotlib.pyplot.scatter(x,y,color =color_by_cluster)"
   ]
  },
  {
   "cell_type": "markdown",
   "metadata": {},
   "source": [
    "We do see some cluster but without knowing which dot is associate to which state, it is hard to prove my assumption of the midwest has high inactive rate and high obesity rate"
   ]
  },
  {
   "cell_type": "code",
   "execution_count": 49,
   "metadata": {
    "collapsed": false
   },
   "outputs": [
    {
     "data": {
      "text/plain": [
       "<matplotlib.collections.PathCollection at 0x11c65ae10>"
      ]
     },
     "execution_count": 49,
     "metadata": {},
     "output_type": "execute_result"
    },
    {
     "data": {
      "image/png": "[encoded data removed]",
      "text/plain": [
       "<matplotlib.figure.Figure at 0x11c26be10>"
      ]
     },
     "metadata": {},
     "output_type": "display_data"
    }
   ],
   "source": [
    "lat_long = pandas.read_csv('lat_long.csv')\n",
    "data_2015['lat'] = lat_long['Latitude']\n",
    "data_2015['long'] = lat_long['Longitude']\n",
    "matplotlib.pyplot.scatter(data_2015['long'],data_2015['lat'],color =color_by_cluster)"
   ]
  },
  {
   "cell_type": "markdown",
   "metadata": {},
   "source": [
    "Graphing it against latitude and longtitude, the cluster seems very scatter.  Although, 4 out of the 5 green dot are are in the east coast.  The Cyan cluster looks like it's gathering in the midwest (northern) area.  The pink dots are on the southern midwest region.  The pink dot is the area with the higher inactive rate and obesity rate.  So my assumption has some based to it :)"
   ]
  },
  {
   "cell_type": "markdown",
   "metadata": {},
   "source": [
    "<h3>Use DBScan for clustering</h3>"
   ]
  },
  {
   "cell_type": "code",
   "execution_count": 50,
   "metadata": {
    "collapsed": true
   },
   "outputs": [],
   "source": [
    "dbscan = sklearn.cluster.DBSCAN(eps = 0.5, min_samples = 11)"
   ]
  },
  {
   "cell_type": "code",
   "execution_count": 51,
   "metadata": {
    "collapsed": false
   },
   "outputs": [
    {
     "data": {
      "text/plain": [
       "array([-1, -1, -1, -1, -1, -1, -1, -1, -1, -1, -1, -1, -1, -1, -1, -1, -1,\n",
       "       -1, -1, -1, -1, -1, -1, -1, -1, -1, -1, -1, -1, -1, -1, -1, -1, -1,\n",
       "       -1, -1, -1, -1, -1, -1, -1, -1, -1, -1, -1, -1, -1, -1, -1, -1, -1])"
      ]
     },
     "execution_count": 51,
     "metadata": {},
     "output_type": "execute_result"
    }
   ],
   "source": [
    "dbscan_suggestions = dbscan.fit_predict(data_2015)\n",
    "dbscan_suggestions"
   ]
  },
  {
   "cell_type": "markdown",
   "metadata": {},
   "source": [
    "No cluster were found.  HAHAHAHAA~ Or did I do something wrong?"
   ]
  },
  {
   "cell_type": "code",
   "execution_count": 52,
   "metadata": {
    "collapsed": false
   },
   "outputs": [
    {
     "data": {
      "text/plain": [
       "array([-1, -1, -1, -1, -1, -1,  0,  1, -1, -1,  2, -1, -1, -1, -1, -1, -1,\n",
       "        3, -1, -1,  2,  0, -1, -1, -1, -1, -1, -1, -1,  0,  0, -1,  0,  2,\n",
       "       -1, -1, -1, -1,  1,  0,  2, -1,  3, -1, -1,  0,  2, -1, -1, -1, -1])"
      ]
     },
     "execution_count": 52,
     "metadata": {},
     "output_type": "execute_result"
    }
   ],
   "source": [
    "dbscan2 = sklearn.cluster.DBSCAN(eps = 4, min_samples = 2)\n",
    "dbscan2_suggestions = dbscan2.fit_predict(data_2015)\n",
    "dbscan2_suggestions"
   ]
  },
  {
   "cell_type": "code",
   "execution_count": 53,
   "metadata": {
    "collapsed": false
   },
   "outputs": [
    {
     "data": {
      "text/plain": [
       "<matplotlib.collections.PathCollection at 0x11d329e10>"
      ]
     },
     "execution_count": 53,
     "metadata": {},
     "output_type": "execute_result"
    },
    {
     "data": {
      "image/png": "[encoded data removed]",
      "text/plain": [
       "<matplotlib.figure.Figure at 0x11c6bd950>"
      ]
     },
     "metadata": {},
     "output_type": "display_data"
    }
   ],
   "source": [
    "matplotlib.pyplot.scatter(x,y,color = coloring[dbscan2_suggestions])"
   ]
  },
  {
   "cell_type": "code",
   "execution_count": 54,
   "metadata": {
    "collapsed": false
   },
   "outputs": [
    {
     "data": {
      "text/plain": [
       "<matplotlib.collections.PathCollection at 0x11d484950>"
      ]
     },
     "execution_count": 54,
     "metadata": {},
     "output_type": "execute_result"
    },
    {
     "data": {
      "image/png": "[encoded data removed]",
      "text/plain": [
       "<matplotlib.figure.Figure at 0x11c5843d0>"
      ]
     },
     "metadata": {},
     "output_type": "display_data"
    }
   ],
   "source": [
    "matplotlib.pyplot.scatter(data_2015['long'],data_2015['lat'],color = coloring[dbscan2_suggestions])"
   ]
  },
  {
   "cell_type": "markdown",
   "metadata": {
    "collapsed": false
   },
   "source": [
    "The DBScan clustering didn't work as well for me. Although we can see the northern east coast probably have a similar live habbit.  However, the west of the mid-west, moutain and west coast region are consider to be 1 big cluster"
   ]
  },
  {
   "cell_type": "code",
   "execution_count": 59,
   "metadata": {
    "collapsed": false
   },
   "outputs": [],
   "source": [
    "import sklearn.tree\n",
    "import IPython.display\n",
    "import pydot"
   ]
  },
  {
   "cell_type": "code",
   "execution_count": 95,
   "metadata": {
    "collapsed": false
   },
   "outputs": [
    {
     "data": {
      "text/html": [
       "<div>\n",
       "<table border=\"1\" class=\"dataframe\">\n",
       "  <thead>\n",
       "    <tr style=\"text-align: right;\">\n",
       "      <th></th>\n",
       "      <th>Inactive_rate</th>\n",
       "      <th>Obesity_rate</th>\n",
       "      <th>Diabete_rate</th>\n",
       "      <th>Hypertension_rate</th>\n",
       "      <th>lat</th>\n",
       "      <th>long</th>\n",
       "      <th>level</th>\n",
       "    </tr>\n",
       "  </thead>\n",
       "  <tbody>\n",
       "    <tr>\n",
       "      <th>0</th>\n",
       "      <td>31.9</td>\n",
       "      <td>35.6</td>\n",
       "      <td>13.5</td>\n",
       "      <td>40.4</td>\n",
       "      <td>32.806671</td>\n",
       "      <td>-86.791130</td>\n",
       "      <td>high</td>\n",
       "    </tr>\n",
       "    <tr>\n",
       "      <th>1</th>\n",
       "      <td>22.0</td>\n",
       "      <td>29.8</td>\n",
       "      <td>7.6</td>\n",
       "      <td>27.5</td>\n",
       "      <td>61.370716</td>\n",
       "      <td>-152.404419</td>\n",
       "      <td>mid</td>\n",
       "    </tr>\n",
       "    <tr>\n",
       "      <th>2</th>\n",
       "      <td>24.7</td>\n",
       "      <td>28.4</td>\n",
       "      <td>10.1</td>\n",
       "      <td>30.8</td>\n",
       "      <td>33.729759</td>\n",
       "      <td>-111.431221</td>\n",
       "      <td>mid</td>\n",
       "    </tr>\n",
       "    <tr>\n",
       "      <th>3</th>\n",
       "      <td>34.2</td>\n",
       "      <td>34.5</td>\n",
       "      <td>12.6</td>\n",
       "      <td>39.3</td>\n",
       "      <td>34.969704</td>\n",
       "      <td>-92.373123</td>\n",
       "      <td>high</td>\n",
       "    </tr>\n",
       "    <tr>\n",
       "      <th>4</th>\n",
       "      <td>20.0</td>\n",
       "      <td>24.2</td>\n",
       "      <td>10.0</td>\n",
       "      <td>28.5</td>\n",
       "      <td>36.116203</td>\n",
       "      <td>-119.681564</td>\n",
       "      <td>mid</td>\n",
       "    </tr>\n",
       "    <tr>\n",
       "      <th>5</th>\n",
       "      <td>17.9</td>\n",
       "      <td>20.2</td>\n",
       "      <td>6.8</td>\n",
       "      <td>25.7</td>\n",
       "      <td>39.059811</td>\n",
       "      <td>-105.311104</td>\n",
       "      <td>low</td>\n",
       "    </tr>\n",
       "    <tr>\n",
       "      <th>6</th>\n",
       "      <td>23.5</td>\n",
       "      <td>25.3</td>\n",
       "      <td>9.3</td>\n",
       "      <td>30.4</td>\n",
       "      <td>41.597782</td>\n",
       "      <td>-72.755371</td>\n",
       "      <td>mid</td>\n",
       "    </tr>\n",
       "    <tr>\n",
       "      <th>7</th>\n",
       "      <td>29.4</td>\n",
       "      <td>29.7</td>\n",
       "      <td>11.5</td>\n",
       "      <td>34.5</td>\n",
       "      <td>39.318523</td>\n",
       "      <td>-75.507141</td>\n",
       "      <td>mid</td>\n",
       "    </tr>\n",
       "    <tr>\n",
       "      <th>8</th>\n",
       "      <td>19.4</td>\n",
       "      <td>22.1</td>\n",
       "      <td>8.5</td>\n",
       "      <td>29.4</td>\n",
       "      <td>38.897438</td>\n",
       "      <td>-77.026817</td>\n",
       "      <td>low</td>\n",
       "    </tr>\n",
       "    <tr>\n",
       "      <th>9</th>\n",
       "      <td>26.2</td>\n",
       "      <td>26.8</td>\n",
       "      <td>11.3</td>\n",
       "      <td>33.5</td>\n",
       "      <td>27.766279</td>\n",
       "      <td>-81.686783</td>\n",
       "      <td>mid</td>\n",
       "    </tr>\n",
       "    <tr>\n",
       "      <th>10</th>\n",
       "      <td>27.3</td>\n",
       "      <td>30.7</td>\n",
       "      <td>11.3</td>\n",
       "      <td>36.2</td>\n",
       "      <td>33.040619</td>\n",
       "      <td>-83.643074</td>\n",
       "      <td>mid</td>\n",
       "    </tr>\n",
       "    <tr>\n",
       "      <th>11</th>\n",
       "      <td>22.5</td>\n",
       "      <td>22.7</td>\n",
       "      <td>8.5</td>\n",
       "      <td>32.0</td>\n",
       "      <td>21.094318</td>\n",
       "      <td>-157.498337</td>\n",
       "      <td>mid</td>\n",
       "    </tr>\n",
       "    <tr>\n",
       "      <th>12</th>\n",
       "      <td>21.2</td>\n",
       "      <td>28.6</td>\n",
       "      <td>8.1</td>\n",
       "      <td>31.2</td>\n",
       "      <td>44.240459</td>\n",
       "      <td>-114.478828</td>\n",
       "      <td>mid</td>\n",
       "    </tr>\n",
       "    <tr>\n",
       "      <th>13</th>\n",
       "      <td>24.8</td>\n",
       "      <td>30.8</td>\n",
       "      <td>9.9</td>\n",
       "      <td>30.8</td>\n",
       "      <td>40.349570</td>\n",
       "      <td>-88.986137</td>\n",
       "      <td>mid</td>\n",
       "    </tr>\n",
       "    <tr>\n",
       "      <th>14</th>\n",
       "      <td>29.4</td>\n",
       "      <td>31.3</td>\n",
       "      <td>11.4</td>\n",
       "      <td>32.4</td>\n",
       "      <td>39.849426</td>\n",
       "      <td>-86.258278</td>\n",
       "      <td>mid</td>\n",
       "    </tr>\n",
       "    <tr>\n",
       "      <th>15</th>\n",
       "      <td>26.3</td>\n",
       "      <td>32.1</td>\n",
       "      <td>8.8</td>\n",
       "      <td>30.6</td>\n",
       "      <td>42.011539</td>\n",
       "      <td>-93.210526</td>\n",
       "      <td>mid</td>\n",
       "    </tr>\n",
       "    <tr>\n",
       "      <th>16</th>\n",
       "      <td>26.5</td>\n",
       "      <td>34.2</td>\n",
       "      <td>9.7</td>\n",
       "      <td>31.6</td>\n",
       "      <td>38.526600</td>\n",
       "      <td>-96.726486</td>\n",
       "      <td>mid</td>\n",
       "    </tr>\n",
       "    <tr>\n",
       "      <th>17</th>\n",
       "      <td>32.5</td>\n",
       "      <td>34.6</td>\n",
       "      <td>13.4</td>\n",
       "      <td>39.0</td>\n",
       "      <td>37.668140</td>\n",
       "      <td>-84.670067</td>\n",
       "      <td>high</td>\n",
       "    </tr>\n",
       "    <tr>\n",
       "      <th>18</th>\n",
       "      <td>31.9</td>\n",
       "      <td>36.2</td>\n",
       "      <td>12.7</td>\n",
       "      <td>39.3</td>\n",
       "      <td>31.169536</td>\n",
       "      <td>-91.867805</td>\n",
       "      <td>high</td>\n",
       "    </tr>\n",
       "    <tr>\n",
       "      <th>19</th>\n",
       "      <td>24.8</td>\n",
       "      <td>30.0</td>\n",
       "      <td>9.9</td>\n",
       "      <td>34.1</td>\n",
       "      <td>44.693947</td>\n",
       "      <td>-69.381927</td>\n",
       "      <td>mid</td>\n",
       "    </tr>\n",
       "    <tr>\n",
       "      <th>20</th>\n",
       "      <td>24.1</td>\n",
       "      <td>28.9</td>\n",
       "      <td>10.3</td>\n",
       "      <td>32.5</td>\n",
       "      <td>39.063926</td>\n",
       "      <td>-76.802101</td>\n",
       "      <td>mid</td>\n",
       "    </tr>\n",
       "    <tr>\n",
       "      <th>21</th>\n",
       "      <td>26.5</td>\n",
       "      <td>24.3</td>\n",
       "      <td>8.9</td>\n",
       "      <td>29.6</td>\n",
       "      <td>42.230171</td>\n",
       "      <td>-71.530106</td>\n",
       "      <td>mid</td>\n",
       "    </tr>\n",
       "    <tr>\n",
       "      <th>22</th>\n",
       "      <td>25.5</td>\n",
       "      <td>31.2</td>\n",
       "      <td>10.7</td>\n",
       "      <td>33.1</td>\n",
       "      <td>43.436618</td>\n",
       "      <td>-84.536095</td>\n",
       "      <td>mid</td>\n",
       "    </tr>\n",
       "    <tr>\n",
       "      <th>23</th>\n",
       "      <td>21.8</td>\n",
       "      <td>26.1</td>\n",
       "      <td>7.6</td>\n",
       "      <td>26.3</td>\n",
       "      <td>45.694454</td>\n",
       "      <td>-93.900192</td>\n",
       "      <td>mid</td>\n",
       "    </tr>\n",
       "    <tr>\n",
       "      <th>24</th>\n",
       "      <td>36.8</td>\n",
       "      <td>35.6</td>\n",
       "      <td>14.7</td>\n",
       "      <td>42.4</td>\n",
       "      <td>32.741646</td>\n",
       "      <td>-89.678696</td>\n",
       "      <td>high</td>\n",
       "    </tr>\n",
       "    <tr>\n",
       "      <th>25</th>\n",
       "      <td>27.0</td>\n",
       "      <td>32.4</td>\n",
       "      <td>11.5</td>\n",
       "      <td>34.1</td>\n",
       "      <td>38.456085</td>\n",
       "      <td>-92.288368</td>\n",
       "      <td>mid</td>\n",
       "    </tr>\n",
       "    <tr>\n",
       "      <th>26</th>\n",
       "      <td>22.5</td>\n",
       "      <td>23.6</td>\n",
       "      <td>7.9</td>\n",
       "      <td>29.1</td>\n",
       "      <td>46.921925</td>\n",
       "      <td>-110.454353</td>\n",
       "      <td>mid</td>\n",
       "    </tr>\n",
       "    <tr>\n",
       "      <th>27</th>\n",
       "      <td>25.3</td>\n",
       "      <td>31.4</td>\n",
       "      <td>8.8</td>\n",
       "      <td>29.9</td>\n",
       "      <td>41.125370</td>\n",
       "      <td>-98.268082</td>\n",
       "      <td>mid</td>\n",
       "    </tr>\n",
       "    <tr>\n",
       "      <th>28</th>\n",
       "      <td>24.7</td>\n",
       "      <td>26.7</td>\n",
       "      <td>9.7</td>\n",
       "      <td>28.3</td>\n",
       "      <td>38.313515</td>\n",
       "      <td>-117.055374</td>\n",
       "      <td>mid</td>\n",
       "    </tr>\n",
       "    <tr>\n",
       "      <th>29</th>\n",
       "      <td>22.6</td>\n",
       "      <td>26.3</td>\n",
       "      <td>8.1</td>\n",
       "      <td>29.2</td>\n",
       "      <td>43.452492</td>\n",
       "      <td>-71.563896</td>\n",
       "      <td>mid</td>\n",
       "    </tr>\n",
       "    <tr>\n",
       "      <th>30</th>\n",
       "      <td>27.2</td>\n",
       "      <td>25.6</td>\n",
       "      <td>9.0</td>\n",
       "      <td>30.9</td>\n",
       "      <td>40.298904</td>\n",
       "      <td>-74.521011</td>\n",
       "      <td>mid</td>\n",
       "    </tr>\n",
       "    <tr>\n",
       "      <th>31</th>\n",
       "      <td>22.6</td>\n",
       "      <td>28.8</td>\n",
       "      <td>11.5</td>\n",
       "      <td>30.0</td>\n",
       "      <td>34.840515</td>\n",
       "      <td>-106.248482</td>\n",
       "      <td>mid</td>\n",
       "    </tr>\n",
       "    <tr>\n",
       "      <th>32</th>\n",
       "      <td>29.3</td>\n",
       "      <td>25.0</td>\n",
       "      <td>9.8</td>\n",
       "      <td>29.3</td>\n",
       "      <td>42.165726</td>\n",
       "      <td>-74.948051</td>\n",
       "      <td>mid</td>\n",
       "    </tr>\n",
       "    <tr>\n",
       "      <th>33</th>\n",
       "      <td>26.2</td>\n",
       "      <td>30.1</td>\n",
       "      <td>10.7</td>\n",
       "      <td>35.2</td>\n",
       "      <td>35.630066</td>\n",
       "      <td>-79.806419</td>\n",
       "      <td>mid</td>\n",
       "    </tr>\n",
       "    <tr>\n",
       "      <th>34</th>\n",
       "      <td>26.8</td>\n",
       "      <td>21.0</td>\n",
       "      <td>8.7</td>\n",
       "      <td>30.4</td>\n",
       "      <td>47.528912</td>\n",
       "      <td>-99.784012</td>\n",
       "      <td>mid</td>\n",
       "    </tr>\n",
       "    <tr>\n",
       "      <th>35</th>\n",
       "      <td>27.0</td>\n",
       "      <td>29.8</td>\n",
       "      <td>11.0</td>\n",
       "      <td>34.3</td>\n",
       "      <td>40.388783</td>\n",
       "      <td>-82.764915</td>\n",
       "      <td>mid</td>\n",
       "    </tr>\n",
       "    <tr>\n",
       "      <th>36</th>\n",
       "      <td>33.2</td>\n",
       "      <td>33.9</td>\n",
       "      <td>11.7</td>\n",
       "      <td>36.2</td>\n",
       "      <td>35.565342</td>\n",
       "      <td>-96.928917</td>\n",
       "      <td>high</td>\n",
       "    </tr>\n",
       "    <tr>\n",
       "      <th>37</th>\n",
       "      <td>18.8</td>\n",
       "      <td>30.1</td>\n",
       "      <td>10.7</td>\n",
       "      <td>30.1</td>\n",
       "      <td>44.572021</td>\n",
       "      <td>-122.070938</td>\n",
       "      <td>low</td>\n",
       "    </tr>\n",
       "    <tr>\n",
       "      <th>38</th>\n",
       "      <td>27.8</td>\n",
       "      <td>30.0</td>\n",
       "      <td>10.4</td>\n",
       "      <td>32.5</td>\n",
       "      <td>40.590752</td>\n",
       "      <td>-77.209755</td>\n",
       "      <td>mid</td>\n",
       "    </tr>\n",
       "    <tr>\n",
       "      <th>39</th>\n",
       "      <td>28.1</td>\n",
       "      <td>26.0</td>\n",
       "      <td>9.0</td>\n",
       "      <td>32.4</td>\n",
       "      <td>41.680893</td>\n",
       "      <td>-71.511780</td>\n",
       "      <td>mid</td>\n",
       "    </tr>\n",
       "    <tr>\n",
       "      <th>40</th>\n",
       "      <td>26.7</td>\n",
       "      <td>31.7</td>\n",
       "      <td>11.8</td>\n",
       "      <td>37.8</td>\n",
       "      <td>33.856892</td>\n",
       "      <td>-80.945007</td>\n",
       "      <td>mid</td>\n",
       "    </tr>\n",
       "    <tr>\n",
       "      <th>41</th>\n",
       "      <td>21.5</td>\n",
       "      <td>30.4</td>\n",
       "      <td>9.3</td>\n",
       "      <td>29.9</td>\n",
       "      <td>44.299782</td>\n",
       "      <td>-99.438828</td>\n",
       "      <td>mid</td>\n",
       "    </tr>\n",
       "    <tr>\n",
       "      <th>42</th>\n",
       "      <td>30.4</td>\n",
       "      <td>33.8</td>\n",
       "      <td>12.7</td>\n",
       "      <td>38.5</td>\n",
       "      <td>35.747845</td>\n",
       "      <td>-86.692345</td>\n",
       "      <td>high</td>\n",
       "    </tr>\n",
       "    <tr>\n",
       "      <th>43</th>\n",
       "      <td>29.5</td>\n",
       "      <td>32.4</td>\n",
       "      <td>11.4</td>\n",
       "      <td>29.5</td>\n",
       "      <td>31.054487</td>\n",
       "      <td>-97.563461</td>\n",
       "      <td>mid</td>\n",
       "    </tr>\n",
       "    <tr>\n",
       "      <th>44</th>\n",
       "      <td>20.3</td>\n",
       "      <td>24.5</td>\n",
       "      <td>8.0</td>\n",
       "      <td>23.6</td>\n",
       "      <td>40.150032</td>\n",
       "      <td>-111.862434</td>\n",
       "      <td>mid</td>\n",
       "    </tr>\n",
       "    <tr>\n",
       "      <th>45</th>\n",
       "      <td>22.2</td>\n",
       "      <td>25.1</td>\n",
       "      <td>8.2</td>\n",
       "      <td>29.4</td>\n",
       "      <td>44.045876</td>\n",
       "      <td>-72.710686</td>\n",
       "      <td>mid</td>\n",
       "    </tr>\n",
       "    <tr>\n",
       "      <th>46</th>\n",
       "      <td>25.1</td>\n",
       "      <td>29.2</td>\n",
       "      <td>10.3</td>\n",
       "      <td>33.2</td>\n",
       "      <td>37.769337</td>\n",
       "      <td>-78.169968</td>\n",
       "      <td>mid</td>\n",
       "    </tr>\n",
       "    <tr>\n",
       "      <th>47</th>\n",
       "      <td>19.0</td>\n",
       "      <td>26.4</td>\n",
       "      <td>8.4</td>\n",
       "      <td>29.7</td>\n",
       "      <td>47.400902</td>\n",
       "      <td>-121.490494</td>\n",
       "      <td>low</td>\n",
       "    </tr>\n",
       "    <tr>\n",
       "      <th>48</th>\n",
       "      <td>30.8</td>\n",
       "      <td>35.6</td>\n",
       "      <td>14.5</td>\n",
       "      <td>42.7</td>\n",
       "      <td>38.491226</td>\n",
       "      <td>-80.954453</td>\n",
       "      <td>high</td>\n",
       "    </tr>\n",
       "    <tr>\n",
       "      <th>49</th>\n",
       "      <td>21.6</td>\n",
       "      <td>30.7</td>\n",
       "      <td>8.4</td>\n",
       "      <td>29.6</td>\n",
       "      <td>44.268543</td>\n",
       "      <td>-89.616508</td>\n",
       "      <td>mid</td>\n",
       "    </tr>\n",
       "    <tr>\n",
       "      <th>50</th>\n",
       "      <td>26.2</td>\n",
       "      <td>29.0</td>\n",
       "      <td>8.4</td>\n",
       "      <td>29.9</td>\n",
       "      <td>42.755966</td>\n",
       "      <td>-107.302490</td>\n",
       "      <td>mid</td>\n",
       "    </tr>\n",
       "  </tbody>\n",
       "</table>\n",
       "</div>"
      ],
      "text/plain": [
       "    Inactive_rate  Obesity_rate  Diabete_rate  Hypertension_rate        lat  \\\n",
       "0            31.9          35.6          13.5               40.4  32.806671   \n",
       "1            22.0          29.8           7.6               27.5  61.370716   \n",
       "2            24.7          28.4          10.1               30.8  33.729759   \n",
       "3            34.2          34.5          12.6               39.3  34.969704   \n",
       "4            20.0          24.2          10.0               28.5  36.116203   \n",
       "5            17.9          20.2           6.8               25.7  39.059811   \n",
       "6            23.5          25.3           9.3               30.4  41.597782   \n",
       "7            29.4          29.7          11.5               34.5  39.318523   \n",
       "8            19.4          22.1           8.5               29.4  38.897438   \n",
       "9            26.2          26.8          11.3               33.5  27.766279   \n",
       "10           27.3          30.7          11.3               36.2  33.040619   \n",
       "11           22.5          22.7           8.5               32.0  21.094318   \n",
       "12           21.2          28.6           8.1               31.2  44.240459   \n",
       "13           24.8          30.8           9.9               30.8  40.349570   \n",
       "14           29.4          31.3          11.4               32.4  39.849426   \n",
       "15           26.3          32.1           8.8               30.6  42.011539   \n",
       "16           26.5          34.2           9.7               31.6  38.526600   \n",
       "17           32.5          34.6          13.4               39.0  37.668140   \n",
       "18           31.9          36.2          12.7               39.3  31.169536   \n",
       "19           24.8          30.0           9.9               34.1  44.693947   \n",
       "20           24.1          28.9          10.3               32.5  39.063926   \n",
       "21           26.5          24.3           8.9               29.6  42.230171   \n",
       "22           25.5          31.2          10.7               33.1  43.436618   \n",
       "23           21.8          26.1           7.6               26.3  45.694454   \n",
       "24           36.8          35.6          14.7               42.4  32.741646   \n",
       "25           27.0          32.4          11.5               34.1  38.456085   \n",
       "26           22.5          23.6           7.9               29.1  46.921925   \n",
       "27           25.3          31.4           8.8               29.9  41.125370   \n",
       "28           24.7          26.7           9.7               28.3  38.313515   \n",
       "29           22.6          26.3           8.1               29.2  43.452492   \n",
       "30           27.2          25.6           9.0               30.9  40.298904   \n",
       "31           22.6          28.8          11.5               30.0  34.840515   \n",
       "32           29.3          25.0           9.8               29.3  42.165726   \n",
       "33           26.2          30.1          10.7               35.2  35.630066   \n",
       "34           26.8          21.0           8.7               30.4  47.528912   \n",
       "35           27.0          29.8          11.0               34.3  40.388783   \n",
       "36           33.2          33.9          11.7               36.2  35.565342   \n",
       "37           18.8          30.1          10.7               30.1  44.572021   \n",
       "38           27.8          30.0          10.4               32.5  40.590752   \n",
       "39           28.1          26.0           9.0               32.4  41.680893   \n",
       "40           26.7          31.7          11.8               37.8  33.856892   \n",
       "41           21.5          30.4           9.3               29.9  44.299782   \n",
       "42           30.4          33.8          12.7               38.5  35.747845   \n",
       "43           29.5          32.4          11.4               29.5  31.054487   \n",
       "44           20.3          24.5           8.0               23.6  40.150032   \n",
       "45           22.2          25.1           8.2               29.4  44.045876   \n",
       "46           25.1          29.2          10.3               33.2  37.769337   \n",
       "47           19.0          26.4           8.4               29.7  47.400902   \n",
       "48           30.8          35.6          14.5               42.7  38.491226   \n",
       "49           21.6          30.7           8.4               29.6  44.268543   \n",
       "50           26.2          29.0           8.4               29.9  42.755966   \n",
       "\n",
       "          long level  \n",
       "0   -86.791130  high  \n",
       "1  -152.404419   mid  \n",
       "2  -111.431221   mid  \n",
       "3   -92.373123  high  \n",
       "4  -119.681564   mid  \n",
       "5  -105.311104   low  \n",
       "6   -72.755371   mid  \n",
       "7   -75.507141   mid  \n",
       "8   -77.026817   low  \n",
       "9   -81.686783   mid  \n",
       "10  -83.643074   mid  \n",
       "11 -157.498337   mid  \n",
       "12 -114.478828   mid  \n",
       "13  -88.986137   mid  \n",
       "14  -86.258278   mid  \n",
       "15  -93.210526   mid  \n",
       "16  -96.726486   mid  \n",
       "17  -84.670067  high  \n",
       "18  -91.867805  high  \n",
       "19  -69.381927   mid  \n",
       "20  -76.802101   mid  \n",
       "21  -71.530106   mid  \n",
       "22  -84.536095   mid  \n",
       "23  -93.900192   mid  \n",
       "24  -89.678696  high  \n",
       "25  -92.288368   mid  \n",
       "26 -110.454353   mid  \n",
       "27  -98.268082   mid  \n",
       "28 -117.055374   mid  \n",
       "29  -71.563896   mid  \n",
       "30  -74.521011   mid  \n",
       "31 -106.248482   mid  \n",
       "32  -74.948051   mid  \n",
       "33  -79.806419   mid  \n",
       "34  -99.784012   mid  \n",
       "35  -82.764915   mid  \n",
       "36  -96.928917  high  \n",
       "37 -122.070938   low  \n",
       "38  -77.209755   mid  \n",
       "39  -71.511780   mid  \n",
       "40  -80.945007   mid  \n",
       "41  -99.438828   mid  \n",
       "42  -86.692345  high  \n",
       "43  -97.563461   mid  \n",
       "44 -111.862434   mid  \n",
       "45  -72.710686   mid  \n",
       "46  -78.169968   mid  \n",
       "47 -121.490494   low  \n",
       "48  -80.954453  high  \n",
       "49  -89.616508   mid  \n",
       "50 -107.302490   mid  "
      ]
     },
     "execution_count": 95,
     "metadata": {},
     "output_type": "execute_result"
    }
   ],
   "source": [
    "data_2015"
   ]
  },
  {
   "cell_type": "code",
   "execution_count": 96,
   "metadata": {
    "collapsed": false
   },
   "outputs": [],
   "source": [
    "data_2015['level'] = US_inactiveRate['Level']"
   ]
  },
  {
   "cell_type": "code",
   "execution_count": 98,
   "metadata": {
    "collapsed": false
   },
   "outputs": [],
   "source": [
    "# Using the data on diabete, obesity and hypertension, predict the level of inactive rate\n",
    "X = data_2015[['Diabete_rate','Obesity_rate', 'Hypertension_rate']]\n",
    "y = data_2015.level"
   ]
  },
  {
   "cell_type": "code",
   "execution_count": 99,
   "metadata": {
    "collapsed": true
   },
   "outputs": [],
   "source": [
    "dtc = sklearn.tree.DecisionTreeClassifier(max_depth=1)"
   ]
  },
  {
   "cell_type": "code",
   "execution_count": 100,
   "metadata": {
    "collapsed": false
   },
   "outputs": [
    {
     "data": {
      "text/plain": [
       "DecisionTreeClassifier(class_weight=None, criterion='gini', max_depth=1,\n",
       "            max_features=None, max_leaf_nodes=None, min_samples_leaf=1,\n",
       "            min_samples_split=2, min_weight_fraction_leaf=0.0,\n",
       "            presort=False, random_state=None, splitter='best')"
      ]
     },
     "execution_count": 100,
     "metadata": {},
     "output_type": "execute_result"
    }
   ],
   "source": [
    "dtc.fit(X, y)"
   ]
  },
  {
   "cell_type": "code",
   "execution_count": 101,
   "metadata": {
    "collapsed": false
   },
   "outputs": [],
   "source": [
    "try:\n",
    " from StringIO import StringIO\n",
    "except ImportError:\n",
    " from io import StringIO\n",
    "import sklearn.tree\n",
    "\n",
    "File_obj = StringIO()\n",
    "sklearn.tree.export_graphviz(dtc, out_file=File_obj, feature_names=['Diabete_rate','Obesity_rate', 'Hypertension_rate'])"
   ]
  },
  {
   "cell_type": "code",
   "execution_count": 103,
   "metadata": {
    "collapsed": false
   },
   "outputs": [
    {
     "name": "stdout",
     "output_type": "stream",
     "text": [
      "digraph Tree {\n",
      "node [shape=box] ;\n",
      "0 [label=\"Obesity_rate <= 33.1\\ngini = 0.3845\\nsamples = 51\\nvalue = [8, 4, 39]\"] ;\n",
      "1 [label=\"gini = 0.1723\\nsamples = 42\\nvalue = [0, 4, 38]\"] ;\n",
      "0 -> 1 [labeldistance=2.5, labelangle=45, headlabel=\"True\"] ;\n",
      "2 [label=\"gini = 0.1975\\nsamples = 9\\nvalue = [8, 0, 1]\"] ;\n",
      "0 -> 2 [labeldistance=2.5, labelangle=-45, headlabel=\"False\"] ;\n",
      "}\n"
     ]
    }
   ],
   "source": [
    "print(File_obj.getvalue())"
   ]
  },
  {
   "cell_type": "code",
   "execution_count": 104,
   "metadata": {
    "collapsed": true
   },
   "outputs": [],
   "source": [
    "Graph = pydot.graph_from_dot_data(File_obj.getvalue())"
   ]
  },
  {
   "cell_type": "code",
   "execution_count": 105,
   "metadata": {
    "collapsed": false
   },
   "outputs": [
    {
     "ename": "TypeError",
     "evalue": "'Dot' object does not support indexing",
     "output_type": "error",
     "traceback": [
      "\u001b[0;31m---------------------------------------------------------------------------\u001b[0m",
      "\u001b[0;31mTypeError\u001b[0m                                 Traceback (most recent call last)",
      "\u001b[0;32m<ipython-input-105-19e55ff4df74>\u001b[0m in \u001b[0;36m<module>\u001b[0;34m()\u001b[0m\n\u001b[0;32m----> 1\u001b[0;31m \u001b[0mIPython\u001b[0m\u001b[0;34m.\u001b[0m\u001b[0mdisplay\u001b[0m\u001b[0;34m.\u001b[0m\u001b[0mImage\u001b[0m\u001b[0;34m(\u001b[0m\u001b[0mGraph\u001b[0m\u001b[0;34m[\u001b[0m\u001b[0;36m0\u001b[0m\u001b[0;34m]\u001b[0m\u001b[0;34m.\u001b[0m\u001b[0mcreate_png\u001b[0m\u001b[0;34m(\u001b[0m\u001b[0;34m)\u001b[0m\u001b[0;34m)\u001b[0m\u001b[0;34m\u001b[0m\u001b[0m\n\u001b[0m",
      "\u001b[0;31mTypeError\u001b[0m: 'Dot' object does not support indexing"
     ]
    }
   ],
   "source": [
    "IPython.display.Image(Graph[0].create_png())"
   ]
  },
  {
   "cell_type": "markdown",
   "metadata": {},
   "source": [
    "I couldn't get the graph to display.  It would work for me sometimes but when I re-run the code, it will not work at other time"
   ]
  },
  {
   "cell_type": "code",
   "execution_count": 107,
   "metadata": {
    "collapsed": false
   },
   "outputs": [
    {
     "data": {
      "text/plain": [
       "array(['mid'], dtype=object)"
      ]
     },
     "execution_count": 107,
     "metadata": {},
     "output_type": "execute_result"
    }
   ],
   "source": [
    "dtc.predict([[30, 12,10]])"
   ]
  },
  {
   "cell_type": "markdown",
   "metadata": {},
   "source": [
    "a person with the score of 30 in Diabete_rate, 12 in Obesity_rate, and 10 in Hypertension rate probably has a mid level of inactive rate"
   ]
  },
  {
   "cell_type": "code",
   "execution_count": 108,
   "metadata": {
    "collapsed": false
   },
   "outputs": [
    {
     "data": {
      "text/plain": [
       "array([[ 0.       ,  0.0952381,  0.9047619]])"
      ]
     },
     "execution_count": 108,
     "metadata": {},
     "output_type": "execute_result"
    }
   ],
   "source": [
    "dtc.predict_proba([[30, 12,10]])"
   ]
  },
  {
   "cell_type": "code",
   "execution_count": 109,
   "metadata": {
    "collapsed": false
   },
   "outputs": [
    {
     "data": {
      "text/plain": [
       "DecisionTreeClassifier(class_weight=None, criterion='entropy', max_depth=2,\n",
       "            max_features=None, max_leaf_nodes=None, min_samples_leaf=1,\n",
       "            min_samples_split=2, min_weight_fraction_leaf=0.0,\n",
       "            presort=False, random_state=None, splitter='best')"
      ]
     },
     "execution_count": 109,
     "metadata": {},
     "output_type": "execute_result"
    }
   ],
   "source": [
    "dtc = sklearn.tree.DecisionTreeClassifier(max_depth=2, criterion='entropy')\n",
    "dtc.fit(X, y)"
   ]
  },
  {
   "cell_type": "code",
   "execution_count": 110,
   "metadata": {
    "collapsed": false
   },
   "outputs": [
    {
     "data": {
      "text/plain": [
       "array(['low'], dtype=object)"
      ]
     },
     "execution_count": 110,
     "metadata": {},
     "output_type": "execute_result"
    }
   ],
   "source": [
    "dtc.predict([[30, 12,10]])"
   ]
  },
  {
   "cell_type": "markdown",
   "metadata": {},
   "source": [
    "increasing the depth and change the criterion to entropy predict the same person will now have a low inactive rate.  I feel like this might be more acurate since the person has a good score in obesity and hypertension rate.  The diabete might just be from family gene"
   ]
  },
  {
   "cell_type": "code",
   "execution_count": 111,
   "metadata": {
    "collapsed": false
   },
   "outputs": [
    {
     "data": {
      "text/plain": [
       "array([ 0.        ,  0.87767576,  0.12232424])"
      ]
     },
     "execution_count": 111,
     "metadata": {},
     "output_type": "execute_result"
    }
   ],
   "source": [
    "dtc.feature_importances_"
   ]
  },
  {
   "cell_type": "code",
   "execution_count": 112,
   "metadata": {
    "collapsed": true
   },
   "outputs": [],
   "source": [
    "import sklearn.grid_search"
   ]
  },
  {
   "cell_type": "code",
   "execution_count": 113,
   "metadata": {
    "collapsed": true
   },
   "outputs": [],
   "source": [
    "brute_force = sklearn.grid_search.GridSearchCV(\n",
    "    sklearn.tree.DecisionTreeClassifier(),\n",
    "    param_grid = {\n",
    "        'max_depth': [1,2,3,4,5],\n",
    "        'criterion': ['gini', 'entropy']\n",
    "    },\n",
    "    cv=3\n",
    ")"
   ]
  },
  {
   "cell_type": "code",
   "execution_count": 114,
   "metadata": {
    "collapsed": false
   },
   "outputs": [
    {
     "data": {
      "text/plain": [
       "GridSearchCV(cv=3, error_score='raise',\n",
       "       estimator=DecisionTreeClassifier(class_weight=None, criterion='gini', max_depth=None,\n",
       "            max_features=None, max_leaf_nodes=None, min_samples_leaf=1,\n",
       "            min_samples_split=2, min_weight_fraction_leaf=0.0,\n",
       "            presort=False, random_state=None, splitter='best'),\n",
       "       fit_params={}, iid=True, n_jobs=1,\n",
       "       param_grid={'criterion': ['gini', 'entropy'], 'max_depth': [1, 2, 3, 4, 5]},\n",
       "       pre_dispatch='2*n_jobs', refit=True, scoring=None, verbose=0)"
      ]
     },
     "execution_count": 114,
     "metadata": {},
     "output_type": "execute_result"
    }
   ],
   "source": [
    "brute_force.fit(X, y)"
   ]
  },
  {
   "cell_type": "code",
   "execution_count": 115,
   "metadata": {
    "collapsed": false
   },
   "outputs": [
    {
     "data": {
      "text/plain": [
       "{'criterion': 'gini', 'max_depth': 1}"
      ]
     },
     "execution_count": 115,
     "metadata": {},
     "output_type": "execute_result"
    }
   ],
   "source": [
    "brute_force.best_params_"
   ]
  },
  {
   "cell_type": "markdown",
   "metadata": {},
   "source": [
    "From our brute force test: it actually show my original decison tree with gini and max_depth of 1 being the best"
   ]
  },
  {
   "cell_type": "markdown",
   "metadata": {},
   "source": [
    "<h3>Conclusion</h3>"
   ]
  },
  {
   "cell_type": "markdown",
   "metadata": {},
   "source": [
    "The data did show that people in the similar area (maybe with similar living habbit) are in the same cluster.  But it is not stand-out-fact.\n",
    "\n"
   ]
  },
  {
   "cell_type": "markdown",
   "metadata": {},
   "source": [
    "Still trying to find data on number of gym by struggling to find that data.  "
   ]
  },
  {
   "cell_type": "code",
   "execution_count": null,
   "metadata": {
    "collapsed": true
   },
   "outputs": [],
   "source": []
  }
 ],
 "metadata": {
  "anaconda-cloud": {},
  "kernelspec": {
   "display_name": "Python [conda root]",
   "language": "python",
   "name": "conda-root-py"
  },
  "language_info": {
   "codemirror_mode": {
    "name": "ipython",
    "version": 2
   },
   "file_extension": ".py",
   "mimetype": "text/x-python",
   "name": "python",
   "nbconvert_exporter": "python",
   "pygments_lexer": "ipython2",
   "version": "2.7.12"
  }
 },
 "nbformat": 4,
 "nbformat_minor": 1
}
