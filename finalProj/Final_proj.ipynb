{
 "cells": [
  {
   "cell_type": "markdown",
   "metadata": {},
   "source": [
    "<h3>Looking into relationship between the number of gym, inactive rate, GSP, and health issue </h3>\n",
    "<h4>Hypothesis:</h4>\n",
    "<ul>\n",
    "    <li>GSP (Gross State Product) can contribute to the state obesity rate.</li>\n",
    "    \n",
    "    <li>The higher of GSP means the wealthier of state => more time for gym and outdoor activities</li>\n",
    "    <li> higher GSP, gyms, lower inactive rate => lower obesity rate </li>\n",
    "\n",
    "</ul>\n",
    "\n",
    "<h4>Test area</h4>\n",
    "<ul>\n",
    "    <li>USA</li>\n",
    "    <li>Australia</li>\n",
    "    <li>Europe</li>\n",
    "    <li>Asia</li>\n",
    "</ul>"
   ]
  },
  {
   "cell_type": "code",
   "execution_count": 11,
   "metadata": {
    "collapsed": true
   },
   "outputs": [],
   "source": [
    "import pandas\n",
    "import matplotlib\n",
    "%matplotlib inline"
   ]
  },
  {
   "cell_type": "code",
   "execution_count": 52,
   "metadata": {
    "collapsed": false
   },
   "outputs": [],
   "source": [
    "US_GSP = pandas.read_csv('US_GSP.csv')\n",
    "US_inactiveRate = pandas.read_csv('US_inactive_rate.csv');\n",
    "US_obesity = pandas.read_csv('US_obesity_rate.csv');"
   ]
  },
  {
   "cell_type": "code",
   "execution_count": 53,
   "metadata": {
    "collapsed": false
   },
   "outputs": [],
   "source": [
    "#First let's have a look at the 2015 data\n",
    "US_states = US_GSP.States\n",
    "GSP_2015 = US_GSP['2015']\n",
    "inactive_2015 = US_inactiveRate['2015']\n",
    "obesity_2015 = US_obesity['2015']"
   ]
  },
  {
   "cell_type": "code",
   "execution_count": 54,
   "metadata": {
    "collapsed": false
   },
   "outputs": [],
   "source": [
    "data2015 = pandas.DataFrame(\n",
    "    {\n",
    "        'states': US_states,\n",
    "        'GSP': GSP_2015,\n",
    "        'Inactive_rate': inactive_2015,\n",
    "        'Obesity_rate': obesity_2015\n",
    "    }\n",
    ")"
   ]
  },
  {
   "cell_type": "code",
   "execution_count": 55,
   "metadata": {
    "collapsed": false
   },
   "outputs": [
    {
     "data": {
      "text/html": [
       "<div>\n",
       "<table border=\"1\" class=\"dataframe\">\n",
       "  <thead>\n",
       "    <tr style=\"text-align: right;\">\n",
       "      <th></th>\n",
       "      <th>GSP</th>\n",
       "      <th>Inactive_rate</th>\n",
       "      <th>Obesity_rate</th>\n",
       "    </tr>\n",
       "    <tr>\n",
       "      <th>states</th>\n",
       "      <th></th>\n",
       "      <th></th>\n",
       "      <th></th>\n",
       "    </tr>\n",
       "  </thead>\n",
       "  <tbody>\n",
       "    <tr>\n",
       "      <th>Alabama</th>\n",
       "      <td>42.67</td>\n",
       "      <td>31.9</td>\n",
       "      <td>35.6</td>\n",
       "    </tr>\n",
       "    <tr>\n",
       "      <th>Alaska</th>\n",
       "      <td>81.80</td>\n",
       "      <td>22.0</td>\n",
       "      <td>29.8</td>\n",
       "    </tr>\n",
       "    <tr>\n",
       "      <th>Arizona</th>\n",
       "      <td>43.27</td>\n",
       "      <td>24.7</td>\n",
       "      <td>28.4</td>\n",
       "    </tr>\n",
       "    <tr>\n",
       "      <th>Arkansas</th>\n",
       "      <td>41.13</td>\n",
       "      <td>34.2</td>\n",
       "      <td>34.5</td>\n",
       "    </tr>\n",
       "    <tr>\n",
       "      <th>California</th>\n",
       "      <td>61.92</td>\n",
       "      <td>20.0</td>\n",
       "      <td>24.2</td>\n",
       "    </tr>\n",
       "    <tr>\n",
       "      <th>Colorado</th>\n",
       "      <td>58.01</td>\n",
       "      <td>17.9</td>\n",
       "      <td>20.2</td>\n",
       "    </tr>\n",
       "    <tr>\n",
       "      <th>Connecticut</th>\n",
       "      <td>72.33</td>\n",
       "      <td>23.5</td>\n",
       "      <td>25.3</td>\n",
       "    </tr>\n",
       "    <tr>\n",
       "      <th>Delaware</th>\n",
       "      <td>69.93</td>\n",
       "      <td>29.4</td>\n",
       "      <td>29.7</td>\n",
       "    </tr>\n",
       "    <tr>\n",
       "      <th>District of Columbia</th>\n",
       "      <td>181.19</td>\n",
       "      <td>19.4</td>\n",
       "      <td>22.1</td>\n",
       "    </tr>\n",
       "    <tr>\n",
       "      <th>Florida</th>\n",
       "      <td>42.59</td>\n",
       "      <td>26.2</td>\n",
       "      <td>26.8</td>\n",
       "    </tr>\n",
       "    <tr>\n",
       "      <th>Georgia</th>\n",
       "      <td>48.57</td>\n",
       "      <td>27.3</td>\n",
       "      <td>30.7</td>\n",
       "    </tr>\n",
       "    <tr>\n",
       "      <th>Hawaii</th>\n",
       "      <td>55.59</td>\n",
       "      <td>22.5</td>\n",
       "      <td>22.7</td>\n",
       "    </tr>\n",
       "    <tr>\n",
       "      <th>Idaho</th>\n",
       "      <td>39.39</td>\n",
       "      <td>21.2</td>\n",
       "      <td>28.6</td>\n",
       "    </tr>\n",
       "    <tr>\n",
       "      <th>Illinois</th>\n",
       "      <td>59.47</td>\n",
       "      <td>24.8</td>\n",
       "      <td>30.8</td>\n",
       "    </tr>\n",
       "    <tr>\n",
       "      <th>Indiana</th>\n",
       "      <td>49.33</td>\n",
       "      <td>29.4</td>\n",
       "      <td>31.3</td>\n",
       "    </tr>\n",
       "    <tr>\n",
       "      <th>Iowa</th>\n",
       "      <td>52.81</td>\n",
       "      <td>26.3</td>\n",
       "      <td>32.1</td>\n",
       "    </tr>\n",
       "    <tr>\n",
       "      <th>Kansas</th>\n",
       "      <td>50.22</td>\n",
       "      <td>26.5</td>\n",
       "      <td>34.2</td>\n",
       "    </tr>\n",
       "    <tr>\n",
       "      <th>Kentucky</th>\n",
       "      <td>41.59</td>\n",
       "      <td>32.5</td>\n",
       "      <td>34.6</td>\n",
       "    </tr>\n",
       "    <tr>\n",
       "      <th>Louisiana</th>\n",
       "      <td>54.16</td>\n",
       "      <td>31.9</td>\n",
       "      <td>36.2</td>\n",
       "    </tr>\n",
       "    <tr>\n",
       "      <th>Maine</th>\n",
       "      <td>41.48</td>\n",
       "      <td>24.8</td>\n",
       "      <td>30.0</td>\n",
       "    </tr>\n",
       "    <tr>\n",
       "      <th>Maryland</th>\n",
       "      <td>60.10</td>\n",
       "      <td>24.1</td>\n",
       "      <td>28.9</td>\n",
       "    </tr>\n",
       "    <tr>\n",
       "      <th>Massachusetts</th>\n",
       "      <td>69.71</td>\n",
       "      <td>26.5</td>\n",
       "      <td>24.3</td>\n",
       "    </tr>\n",
       "    <tr>\n",
       "      <th>Michigan</th>\n",
       "      <td>46.59</td>\n",
       "      <td>25.5</td>\n",
       "      <td>31.2</td>\n",
       "    </tr>\n",
       "    <tr>\n",
       "      <th>Minnesota</th>\n",
       "      <td>60.26</td>\n",
       "      <td>21.8</td>\n",
       "      <td>26.1</td>\n",
       "    </tr>\n",
       "    <tr>\n",
       "      <th>Mississippi</th>\n",
       "      <td>35.72</td>\n",
       "      <td>36.8</td>\n",
       "      <td>35.6</td>\n",
       "    </tr>\n",
       "    <tr>\n",
       "      <th>Missouri</th>\n",
       "      <td>47.21</td>\n",
       "      <td>27.0</td>\n",
       "      <td>32.4</td>\n",
       "    </tr>\n",
       "    <tr>\n",
       "      <th>Montana</th>\n",
       "      <td>44.31</td>\n",
       "      <td>22.5</td>\n",
       "      <td>23.6</td>\n",
       "    </tr>\n",
       "    <tr>\n",
       "      <th>Nebraska</th>\n",
       "      <td>59.18</td>\n",
       "      <td>25.3</td>\n",
       "      <td>31.4</td>\n",
       "    </tr>\n",
       "    <tr>\n",
       "      <th>Nevada</th>\n",
       "      <td>48.64</td>\n",
       "      <td>24.7</td>\n",
       "      <td>26.7</td>\n",
       "    </tr>\n",
       "    <tr>\n",
       "      <th>New Hampshire</th>\n",
       "      <td>53.83</td>\n",
       "      <td>22.6</td>\n",
       "      <td>26.3</td>\n",
       "    </tr>\n",
       "    <tr>\n",
       "      <th>New Jersey</th>\n",
       "      <td>64.07</td>\n",
       "      <td>27.2</td>\n",
       "      <td>25.6</td>\n",
       "    </tr>\n",
       "    <tr>\n",
       "      <th>New Mexico</th>\n",
       "      <td>41.55</td>\n",
       "      <td>22.6</td>\n",
       "      <td>28.8</td>\n",
       "    </tr>\n",
       "    <tr>\n",
       "      <th>New York</th>\n",
       "      <td>72.97</td>\n",
       "      <td>29.3</td>\n",
       "      <td>25.0</td>\n",
       "    </tr>\n",
       "    <tr>\n",
       "      <th>North Carolina</th>\n",
       "      <td>50.16</td>\n",
       "      <td>26.2</td>\n",
       "      <td>30.1</td>\n",
       "    </tr>\n",
       "    <tr>\n",
       "      <th>North Dakota</th>\n",
       "      <td>70.93</td>\n",
       "      <td>26.8</td>\n",
       "      <td>21.0</td>\n",
       "    </tr>\n",
       "    <tr>\n",
       "      <th>Ohio</th>\n",
       "      <td>51.05</td>\n",
       "      <td>27.0</td>\n",
       "      <td>29.8</td>\n",
       "    </tr>\n",
       "    <tr>\n",
       "      <th>Oklahoma</th>\n",
       "      <td>46.29</td>\n",
       "      <td>33.2</td>\n",
       "      <td>33.9</td>\n",
       "    </tr>\n",
       "    <tr>\n",
       "      <th>Oregon</th>\n",
       "      <td>56.01</td>\n",
       "      <td>18.8</td>\n",
       "      <td>30.1</td>\n",
       "    </tr>\n",
       "    <tr>\n",
       "      <th>Pennsylvania</th>\n",
       "      <td>52.93</td>\n",
       "      <td>27.8</td>\n",
       "      <td>30.0</td>\n",
       "    </tr>\n",
       "    <tr>\n",
       "      <th>Rhode Island</th>\n",
       "      <td>53.32</td>\n",
       "      <td>28.1</td>\n",
       "      <td>26.0</td>\n",
       "    </tr>\n",
       "    <tr>\n",
       "      <th>South Carolina</th>\n",
       "      <td>40.21</td>\n",
       "      <td>26.7</td>\n",
       "      <td>31.7</td>\n",
       "    </tr>\n",
       "    <tr>\n",
       "      <th>South Dakota</th>\n",
       "      <td>51.90</td>\n",
       "      <td>21.5</td>\n",
       "      <td>30.4</td>\n",
       "    </tr>\n",
       "    <tr>\n",
       "      <th>Tennessee</th>\n",
       "      <td>46.53</td>\n",
       "      <td>30.4</td>\n",
       "      <td>33.8</td>\n",
       "    </tr>\n",
       "    <tr>\n",
       "      <th>Texas</th>\n",
       "      <td>59.99</td>\n",
       "      <td>29.5</td>\n",
       "      <td>32.4</td>\n",
       "    </tr>\n",
       "    <tr>\n",
       "      <th>Utah</th>\n",
       "      <td>48.97</td>\n",
       "      <td>20.3</td>\n",
       "      <td>24.5</td>\n",
       "    </tr>\n",
       "    <tr>\n",
       "      <th>Vermont</th>\n",
       "      <td>47.52</td>\n",
       "      <td>22.2</td>\n",
       "      <td>25.1</td>\n",
       "    </tr>\n",
       "    <tr>\n",
       "      <th>Virginia</th>\n",
       "      <td>56.89</td>\n",
       "      <td>25.1</td>\n",
       "      <td>29.2</td>\n",
       "    </tr>\n",
       "    <tr>\n",
       "      <th>Washington</th>\n",
       "      <td>62.21</td>\n",
       "      <td>19.0</td>\n",
       "      <td>26.4</td>\n",
       "    </tr>\n",
       "    <tr>\n",
       "      <th>West Virginia</th>\n",
       "      <td>38.57</td>\n",
       "      <td>30.8</td>\n",
       "      <td>35.6</td>\n",
       "    </tr>\n",
       "    <tr>\n",
       "      <th>Wisconsin</th>\n",
       "      <td>51.46</td>\n",
       "      <td>21.6</td>\n",
       "      <td>30.7</td>\n",
       "    </tr>\n",
       "    <tr>\n",
       "      <th>Wyoming</th>\n",
       "      <td>68.54</td>\n",
       "      <td>26.2</td>\n",
       "      <td>29.0</td>\n",
       "    </tr>\n",
       "  </tbody>\n",
       "</table>\n",
       "</div>"
      ],
      "text/plain": [
       "                         GSP  Inactive_rate  Obesity_rate\n",
       "states                                                   \n",
       "Alabama                42.67           31.9          35.6\n",
       "Alaska                 81.80           22.0          29.8\n",
       "Arizona                43.27           24.7          28.4\n",
       "Arkansas               41.13           34.2          34.5\n",
       "California             61.92           20.0          24.2\n",
       "Colorado               58.01           17.9          20.2\n",
       "Connecticut            72.33           23.5          25.3\n",
       "Delaware               69.93           29.4          29.7\n",
       "District of Columbia  181.19           19.4          22.1\n",
       "Florida                42.59           26.2          26.8\n",
       "Georgia                48.57           27.3          30.7\n",
       "Hawaii                 55.59           22.5          22.7\n",
       "Idaho                  39.39           21.2          28.6\n",
       "Illinois               59.47           24.8          30.8\n",
       "Indiana                49.33           29.4          31.3\n",
       "Iowa                   52.81           26.3          32.1\n",
       "Kansas                 50.22           26.5          34.2\n",
       "Kentucky               41.59           32.5          34.6\n",
       "Louisiana              54.16           31.9          36.2\n",
       "Maine                  41.48           24.8          30.0\n",
       "Maryland               60.10           24.1          28.9\n",
       "Massachusetts          69.71           26.5          24.3\n",
       "Michigan               46.59           25.5          31.2\n",
       "Minnesota              60.26           21.8          26.1\n",
       "Mississippi            35.72           36.8          35.6\n",
       "Missouri               47.21           27.0          32.4\n",
       "Montana                44.31           22.5          23.6\n",
       "Nebraska               59.18           25.3          31.4\n",
       "Nevada                 48.64           24.7          26.7\n",
       "New Hampshire          53.83           22.6          26.3\n",
       "New Jersey             64.07           27.2          25.6\n",
       "New Mexico             41.55           22.6          28.8\n",
       "New York               72.97           29.3          25.0\n",
       "North Carolina         50.16           26.2          30.1\n",
       "North Dakota           70.93           26.8          21.0\n",
       "Ohio                   51.05           27.0          29.8\n",
       "Oklahoma               46.29           33.2          33.9\n",
       "Oregon                 56.01           18.8          30.1\n",
       "Pennsylvania           52.93           27.8          30.0\n",
       "Rhode Island           53.32           28.1          26.0\n",
       "South Carolina         40.21           26.7          31.7\n",
       "South Dakota           51.90           21.5          30.4\n",
       "Tennessee              46.53           30.4          33.8\n",
       "Texas                  59.99           29.5          32.4\n",
       "Utah                   48.97           20.3          24.5\n",
       "Vermont                47.52           22.2          25.1\n",
       "Virginia               56.89           25.1          29.2\n",
       "Washington             62.21           19.0          26.4\n",
       "West Virginia          38.57           30.8          35.6\n",
       "Wisconsin              51.46           21.6          30.7\n",
       "Wyoming                68.54           26.2          29.0"
      ]
     },
     "execution_count": 55,
     "metadata": {},
     "output_type": "execute_result"
    }
   ],
   "source": [
    "data2015.set_index('states')"
   ]
  },
  {
   "cell_type": "code",
   "execution_count": 61,
   "metadata": {
    "collapsed": false
   },
   "outputs": [
    {
     "data": {
      "text/plain": [
       "array([[<matplotlib.axes._subplots.AxesSubplot object at 0x119503c10>,\n",
       "        <matplotlib.axes._subplots.AxesSubplot object at 0x119649c10>,\n",
       "        <matplotlib.axes._subplots.AxesSubplot object at 0x1196bab90>],\n",
       "       [<matplotlib.axes._subplots.AxesSubplot object at 0x119719310>,\n",
       "        <matplotlib.axes._subplots.AxesSubplot object at 0x119796290>,\n",
       "        <matplotlib.axes._subplots.AxesSubplot object at 0x11972fc90>],\n",
       "       [<matplotlib.axes._subplots.AxesSubplot object at 0x119887210>,\n",
       "        <matplotlib.axes._subplots.AxesSubplot object at 0x11990b090>,\n",
       "        <matplotlib.axes._subplots.AxesSubplot object at 0x11996e950>]], dtype=object)"
      ]
     },
     "execution_count": 61,
     "metadata": {},
     "output_type": "execute_result"
    },
    {
     "data": {
      "image/png": "[encoded data removed]",
      "text/plain": [
       "<matplotlib.figure.Figure at 0x1193b0250>"
      ]
     },
     "metadata": {},
     "output_type": "display_data"
    }
   ],
   "source": [
    "pandas.scatter_matrix(data2015)"
   ]
  },
  {
   "cell_type": "markdown",
   "metadata": {},
   "source": [
    "<ul>\n",
    "    <li>The higher of inactive rate, the high obesity rate</li>\n",
    "    <li>Can't see much relationship between GSP and inactive rate</li>\n",
    "</ul>"
   ]
  },
  {
   "cell_type": "code",
   "execution_count": 67,
   "metadata": {
    "collapsed": true
   },
   "outputs": [],
   "source": [
    "import sklearn.linear_model"
   ]
  },
  {
   "cell_type": "code",
   "execution_count": 69,
   "metadata": {
    "collapsed": true
   },
   "outputs": [],
   "source": [
    "ransac = sklearn.linear_model.RANSACRegressor()"
   ]
  },
  {
   "cell_type": "code",
   "execution_count": 70,
   "metadata": {
    "collapsed": true
   },
   "outputs": [],
   "source": [
    "X = data2015[ ['GSP', 'Inactive_rate'] ]\n",
    "# prediction y-axis = price\n",
    "y = data2015.Obesity_rate"
   ]
  },
  {
   "cell_type": "code",
   "execution_count": 71,
   "metadata": {
    "collapsed": false
   },
   "outputs": [
    {
     "data": {
      "text/plain": [
       "RANSACRegressor(base_estimator=None, is_data_valid=None, is_model_valid=None,\n",
       "        max_trials=100, min_samples=None, random_state=None,\n",
       "        residual_metric=None, residual_threshold=None, stop_n_inliers=inf,\n",
       "        stop_probability=0.99, stop_score=inf)"
      ]
     },
     "execution_count": 71,
     "metadata": {},
     "output_type": "execute_result"
    }
   ],
   "source": [
    "ransac.fit(X,y)"
   ]
  },
  {
   "cell_type": "code",
   "execution_count": 74,
   "metadata": {
    "collapsed": false
   },
   "outputs": [
    {
     "data": {
      "text/plain": [
       "array([ 0.03146491,  0.86174987])"
      ]
     },
     "execution_count": 74,
     "metadata": {},
     "output_type": "execute_result"
    }
   ],
   "source": [
    "ransac.estimator_.coef_"
   ]
  },
  {
   "cell_type": "markdown",
   "metadata": {},
   "source": [
    "<ul>\n",
    "    <li>It looks like as GSP increase, obesity rate also increase.  This is different from what I was assuming</li>\n",
    "     <li>For every increase of Inactive rate, obesity rate also increase.  Align with my asummption</li>\n",
    "        \n",
    "</ul>"
   ]
  },
  {
   "cell_type": "code",
   "execution_count": 75,
   "metadata": {
    "collapsed": true
   },
   "outputs": [],
   "source": [
    "ols = sklearn.linear_model.LinearRegression()"
   ]
  },
  {
   "cell_type": "code",
   "execution_count": 76,
   "metadata": {
    "collapsed": true
   },
   "outputs": [],
   "source": [
    "X = data2015[ ['GSP', 'Inactive_rate'] ]\n",
    "# prediction y-axis = price\n",
    "y = data2015.Obesity_rate"
   ]
  },
  {
   "cell_type": "code",
   "execution_count": 77,
   "metadata": {
    "collapsed": false
   },
   "outputs": [
    {
     "data": {
      "text/plain": [
       "LinearRegression(copy_X=True, fit_intercept=True, n_jobs=1, normalize=False)"
      ]
     },
     "execution_count": 77,
     "metadata": {},
     "output_type": "execute_result"
    }
   ],
   "source": [
    "ols.fit(X,y)"
   ]
  },
  {
   "cell_type": "code",
   "execution_count": 79,
   "metadata": {
    "collapsed": false
   },
   "outputs": [
    {
     "data": {
      "text/plain": [
       "array([-0.04774191,  0.56562818])"
      ]
     },
     "execution_count": 79,
     "metadata": {},
     "output_type": "execute_result"
    }
   ],
   "source": [
    "ols.coef_"
   ]
  },
  {
   "cell_type": "markdown",
   "metadata": {},
   "source": [
    "<p>Using Ordinary Least Square method</p>\n",
    "<ul>\n",
    "    <li>the increase of GSP will result of decrease in obesity rate</li>\n",
    "    <li>the increase of inactive rate will result in increase of obesity rate</li>\n",
    "</ul>\n",
    "<p>Result aligns with my hyponthesis</p>"
   ]
  },
  {
   "cell_type": "code",
   "execution_count": 80,
   "metadata": {
    "collapsed": true
   },
   "outputs": [],
   "source": [
    "US_diabetes = pandas.read_csv('US_diabete.csv');\n",
    "US_hypertension = pandas.read_csv('US_hypertension.csv');"
   ]
  },
  {
   "cell_type": "code",
   "execution_count": 81,
   "metadata": {
    "collapsed": true
   },
   "outputs": [],
   "source": [
    "data2015['Diabete_rate'] = US_diabetes['2015']\n",
    "data2015['Hypertension_rate'] = US_hypertension['2015']"
   ]
  },
  {
   "cell_type": "code",
   "execution_count": 83,
   "metadata": {
    "collapsed": false
   },
   "outputs": [
    {
     "data": {
      "text/html": [
       "<div>\n",
       "<table border=\"1\" class=\"dataframe\">\n",
       "  <thead>\n",
       "    <tr style=\"text-align: right;\">\n",
       "      <th></th>\n",
       "      <th>GSP</th>\n",
       "      <th>Inactive_rate</th>\n",
       "      <th>Obesity_rate</th>\n",
       "      <th>Diabete_rate</th>\n",
       "      <th>Hypertension_rate</th>\n",
       "    </tr>\n",
       "    <tr>\n",
       "      <th>states</th>\n",
       "      <th></th>\n",
       "      <th></th>\n",
       "      <th></th>\n",
       "      <th></th>\n",
       "      <th></th>\n",
       "    </tr>\n",
       "  </thead>\n",
       "  <tbody>\n",
       "    <tr>\n",
       "      <th>Alabama</th>\n",
       "      <td>42.67</td>\n",
       "      <td>31.9</td>\n",
       "      <td>35.6</td>\n",
       "      <td>13.5</td>\n",
       "      <td>40.4</td>\n",
       "    </tr>\n",
       "    <tr>\n",
       "      <th>Alaska</th>\n",
       "      <td>81.80</td>\n",
       "      <td>22.0</td>\n",
       "      <td>29.8</td>\n",
       "      <td>7.6</td>\n",
       "      <td>27.5</td>\n",
       "    </tr>\n",
       "    <tr>\n",
       "      <th>Arizona</th>\n",
       "      <td>43.27</td>\n",
       "      <td>24.7</td>\n",
       "      <td>28.4</td>\n",
       "      <td>10.1</td>\n",
       "      <td>30.8</td>\n",
       "    </tr>\n",
       "    <tr>\n",
       "      <th>Arkansas</th>\n",
       "      <td>41.13</td>\n",
       "      <td>34.2</td>\n",
       "      <td>34.5</td>\n",
       "      <td>12.6</td>\n",
       "      <td>39.3</td>\n",
       "    </tr>\n",
       "    <tr>\n",
       "      <th>California</th>\n",
       "      <td>61.92</td>\n",
       "      <td>20.0</td>\n",
       "      <td>24.2</td>\n",
       "      <td>10.0</td>\n",
       "      <td>28.5</td>\n",
       "    </tr>\n",
       "    <tr>\n",
       "      <th>Colorado</th>\n",
       "      <td>58.01</td>\n",
       "      <td>17.9</td>\n",
       "      <td>20.2</td>\n",
       "      <td>6.8</td>\n",
       "      <td>25.7</td>\n",
       "    </tr>\n",
       "    <tr>\n",
       "      <th>Connecticut</th>\n",
       "      <td>72.33</td>\n",
       "      <td>23.5</td>\n",
       "      <td>25.3</td>\n",
       "      <td>9.3</td>\n",
       "      <td>30.4</td>\n",
       "    </tr>\n",
       "    <tr>\n",
       "      <th>Delaware</th>\n",
       "      <td>69.93</td>\n",
       "      <td>29.4</td>\n",
       "      <td>29.7</td>\n",
       "      <td>11.5</td>\n",
       "      <td>34.5</td>\n",
       "    </tr>\n",
       "    <tr>\n",
       "      <th>District of Columbia</th>\n",
       "      <td>181.19</td>\n",
       "      <td>19.4</td>\n",
       "      <td>22.1</td>\n",
       "      <td>8.5</td>\n",
       "      <td>29.4</td>\n",
       "    </tr>\n",
       "    <tr>\n",
       "      <th>Florida</th>\n",
       "      <td>42.59</td>\n",
       "      <td>26.2</td>\n",
       "      <td>26.8</td>\n",
       "      <td>11.3</td>\n",
       "      <td>33.5</td>\n",
       "    </tr>\n",
       "    <tr>\n",
       "      <th>Georgia</th>\n",
       "      <td>48.57</td>\n",
       "      <td>27.3</td>\n",
       "      <td>30.7</td>\n",
       "      <td>11.3</td>\n",
       "      <td>36.2</td>\n",
       "    </tr>\n",
       "    <tr>\n",
       "      <th>Hawaii</th>\n",
       "      <td>55.59</td>\n",
       "      <td>22.5</td>\n",
       "      <td>22.7</td>\n",
       "      <td>8.5</td>\n",
       "      <td>32.0</td>\n",
       "    </tr>\n",
       "    <tr>\n",
       "      <th>Idaho</th>\n",
       "      <td>39.39</td>\n",
       "      <td>21.2</td>\n",
       "      <td>28.6</td>\n",
       "      <td>8.1</td>\n",
       "      <td>31.2</td>\n",
       "    </tr>\n",
       "    <tr>\n",
       "      <th>Illinois</th>\n",
       "      <td>59.47</td>\n",
       "      <td>24.8</td>\n",
       "      <td>30.8</td>\n",
       "      <td>9.9</td>\n",
       "      <td>30.8</td>\n",
       "    </tr>\n",
       "    <tr>\n",
       "      <th>Indiana</th>\n",
       "      <td>49.33</td>\n",
       "      <td>29.4</td>\n",
       "      <td>31.3</td>\n",
       "      <td>11.4</td>\n",
       "      <td>32.4</td>\n",
       "    </tr>\n",
       "    <tr>\n",
       "      <th>Iowa</th>\n",
       "      <td>52.81</td>\n",
       "      <td>26.3</td>\n",
       "      <td>32.1</td>\n",
       "      <td>8.8</td>\n",
       "      <td>30.6</td>\n",
       "    </tr>\n",
       "    <tr>\n",
       "      <th>Kansas</th>\n",
       "      <td>50.22</td>\n",
       "      <td>26.5</td>\n",
       "      <td>34.2</td>\n",
       "      <td>9.7</td>\n",
       "      <td>31.6</td>\n",
       "    </tr>\n",
       "    <tr>\n",
       "      <th>Kentucky</th>\n",
       "      <td>41.59</td>\n",
       "      <td>32.5</td>\n",
       "      <td>34.6</td>\n",
       "      <td>13.4</td>\n",
       "      <td>39.0</td>\n",
       "    </tr>\n",
       "    <tr>\n",
       "      <th>Louisiana</th>\n",
       "      <td>54.16</td>\n",
       "      <td>31.9</td>\n",
       "      <td>36.2</td>\n",
       "      <td>12.7</td>\n",
       "      <td>39.3</td>\n",
       "    </tr>\n",
       "    <tr>\n",
       "      <th>Maine</th>\n",
       "      <td>41.48</td>\n",
       "      <td>24.8</td>\n",
       "      <td>30.0</td>\n",
       "      <td>9.9</td>\n",
       "      <td>34.1</td>\n",
       "    </tr>\n",
       "    <tr>\n",
       "      <th>Maryland</th>\n",
       "      <td>60.10</td>\n",
       "      <td>24.1</td>\n",
       "      <td>28.9</td>\n",
       "      <td>10.3</td>\n",
       "      <td>32.5</td>\n",
       "    </tr>\n",
       "    <tr>\n",
       "      <th>Massachusetts</th>\n",
       "      <td>69.71</td>\n",
       "      <td>26.5</td>\n",
       "      <td>24.3</td>\n",
       "      <td>8.9</td>\n",
       "      <td>29.6</td>\n",
       "    </tr>\n",
       "    <tr>\n",
       "      <th>Michigan</th>\n",
       "      <td>46.59</td>\n",
       "      <td>25.5</td>\n",
       "      <td>31.2</td>\n",
       "      <td>10.7</td>\n",
       "      <td>33.1</td>\n",
       "    </tr>\n",
       "    <tr>\n",
       "      <th>Minnesota</th>\n",
       "      <td>60.26</td>\n",
       "      <td>21.8</td>\n",
       "      <td>26.1</td>\n",
       "      <td>7.6</td>\n",
       "      <td>26.3</td>\n",
       "    </tr>\n",
       "    <tr>\n",
       "      <th>Mississippi</th>\n",
       "      <td>35.72</td>\n",
       "      <td>36.8</td>\n",
       "      <td>35.6</td>\n",
       "      <td>14.7</td>\n",
       "      <td>42.4</td>\n",
       "    </tr>\n",
       "    <tr>\n",
       "      <th>Missouri</th>\n",
       "      <td>47.21</td>\n",
       "      <td>27.0</td>\n",
       "      <td>32.4</td>\n",
       "      <td>11.5</td>\n",
       "      <td>34.1</td>\n",
       "    </tr>\n",
       "    <tr>\n",
       "      <th>Montana</th>\n",
       "      <td>44.31</td>\n",
       "      <td>22.5</td>\n",
       "      <td>23.6</td>\n",
       "      <td>7.9</td>\n",
       "      <td>29.1</td>\n",
       "    </tr>\n",
       "    <tr>\n",
       "      <th>Nebraska</th>\n",
       "      <td>59.18</td>\n",
       "      <td>25.3</td>\n",
       "      <td>31.4</td>\n",
       "      <td>8.8</td>\n",
       "      <td>29.9</td>\n",
       "    </tr>\n",
       "    <tr>\n",
       "      <th>Nevada</th>\n",
       "      <td>48.64</td>\n",
       "      <td>24.7</td>\n",
       "      <td>26.7</td>\n",
       "      <td>9.7</td>\n",
       "      <td>28.3</td>\n",
       "    </tr>\n",
       "    <tr>\n",
       "      <th>New Hampshire</th>\n",
       "      <td>53.83</td>\n",
       "      <td>22.6</td>\n",
       "      <td>26.3</td>\n",
       "      <td>8.1</td>\n",
       "      <td>29.2</td>\n",
       "    </tr>\n",
       "    <tr>\n",
       "      <th>New Jersey</th>\n",
       "      <td>64.07</td>\n",
       "      <td>27.2</td>\n",
       "      <td>25.6</td>\n",
       "      <td>9.0</td>\n",
       "      <td>30.9</td>\n",
       "    </tr>\n",
       "    <tr>\n",
       "      <th>New Mexico</th>\n",
       "      <td>41.55</td>\n",
       "      <td>22.6</td>\n",
       "      <td>28.8</td>\n",
       "      <td>11.5</td>\n",
       "      <td>30.0</td>\n",
       "    </tr>\n",
       "    <tr>\n",
       "      <th>New York</th>\n",
       "      <td>72.97</td>\n",
       "      <td>29.3</td>\n",
       "      <td>25.0</td>\n",
       "      <td>9.8</td>\n",
       "      <td>29.3</td>\n",
       "    </tr>\n",
       "    <tr>\n",
       "      <th>North Carolina</th>\n",
       "      <td>50.16</td>\n",
       "      <td>26.2</td>\n",
       "      <td>30.1</td>\n",
       "      <td>10.7</td>\n",
       "      <td>35.2</td>\n",
       "    </tr>\n",
       "    <tr>\n",
       "      <th>North Dakota</th>\n",
       "      <td>70.93</td>\n",
       "      <td>26.8</td>\n",
       "      <td>21.0</td>\n",
       "      <td>8.7</td>\n",
       "      <td>30.4</td>\n",
       "    </tr>\n",
       "    <tr>\n",
       "      <th>Ohio</th>\n",
       "      <td>51.05</td>\n",
       "      <td>27.0</td>\n",
       "      <td>29.8</td>\n",
       "      <td>11.0</td>\n",
       "      <td>34.3</td>\n",
       "    </tr>\n",
       "    <tr>\n",
       "      <th>Oklahoma</th>\n",
       "      <td>46.29</td>\n",
       "      <td>33.2</td>\n",
       "      <td>33.9</td>\n",
       "      <td>11.7</td>\n",
       "      <td>36.2</td>\n",
       "    </tr>\n",
       "    <tr>\n",
       "      <th>Oregon</th>\n",
       "      <td>56.01</td>\n",
       "      <td>18.8</td>\n",
       "      <td>30.1</td>\n",
       "      <td>10.7</td>\n",
       "      <td>30.1</td>\n",
       "    </tr>\n",
       "    <tr>\n",
       "      <th>Pennsylvania</th>\n",
       "      <td>52.93</td>\n",
       "      <td>27.8</td>\n",
       "      <td>30.0</td>\n",
       "      <td>10.4</td>\n",
       "      <td>32.5</td>\n",
       "    </tr>\n",
       "    <tr>\n",
       "      <th>Rhode Island</th>\n",
       "      <td>53.32</td>\n",
       "      <td>28.1</td>\n",
       "      <td>26.0</td>\n",
       "      <td>9.0</td>\n",
       "      <td>32.4</td>\n",
       "    </tr>\n",
       "    <tr>\n",
       "      <th>South Carolina</th>\n",
       "      <td>40.21</td>\n",
       "      <td>26.7</td>\n",
       "      <td>31.7</td>\n",
       "      <td>11.8</td>\n",
       "      <td>37.8</td>\n",
       "    </tr>\n",
       "    <tr>\n",
       "      <th>South Dakota</th>\n",
       "      <td>51.90</td>\n",
       "      <td>21.5</td>\n",
       "      <td>30.4</td>\n",
       "      <td>9.3</td>\n",
       "      <td>29.9</td>\n",
       "    </tr>\n",
       "    <tr>\n",
       "      <th>Tennessee</th>\n",
       "      <td>46.53</td>\n",
       "      <td>30.4</td>\n",
       "      <td>33.8</td>\n",
       "      <td>12.7</td>\n",
       "      <td>38.5</td>\n",
       "    </tr>\n",
       "    <tr>\n",
       "      <th>Texas</th>\n",
       "      <td>59.99</td>\n",
       "      <td>29.5</td>\n",
       "      <td>32.4</td>\n",
       "      <td>11.4</td>\n",
       "      <td>29.5</td>\n",
       "    </tr>\n",
       "    <tr>\n",
       "      <th>Utah</th>\n",
       "      <td>48.97</td>\n",
       "      <td>20.3</td>\n",
       "      <td>24.5</td>\n",
       "      <td>8.0</td>\n",
       "      <td>23.6</td>\n",
       "    </tr>\n",
       "    <tr>\n",
       "      <th>Vermont</th>\n",
       "      <td>47.52</td>\n",
       "      <td>22.2</td>\n",
       "      <td>25.1</td>\n",
       "      <td>8.2</td>\n",
       "      <td>29.4</td>\n",
       "    </tr>\n",
       "    <tr>\n",
       "      <th>Virginia</th>\n",
       "      <td>56.89</td>\n",
       "      <td>25.1</td>\n",
       "      <td>29.2</td>\n",
       "      <td>10.3</td>\n",
       "      <td>33.2</td>\n",
       "    </tr>\n",
       "    <tr>\n",
       "      <th>Washington</th>\n",
       "      <td>62.21</td>\n",
       "      <td>19.0</td>\n",
       "      <td>26.4</td>\n",
       "      <td>8.4</td>\n",
       "      <td>29.7</td>\n",
       "    </tr>\n",
       "    <tr>\n",
       "      <th>West Virginia</th>\n",
       "      <td>38.57</td>\n",
       "      <td>30.8</td>\n",
       "      <td>35.6</td>\n",
       "      <td>14.5</td>\n",
       "      <td>42.7</td>\n",
       "    </tr>\n",
       "    <tr>\n",
       "      <th>Wisconsin</th>\n",
       "      <td>51.46</td>\n",
       "      <td>21.6</td>\n",
       "      <td>30.7</td>\n",
       "      <td>8.4</td>\n",
       "      <td>29.6</td>\n",
       "    </tr>\n",
       "    <tr>\n",
       "      <th>Wyoming</th>\n",
       "      <td>68.54</td>\n",
       "      <td>26.2</td>\n",
       "      <td>29.0</td>\n",
       "      <td>8.4</td>\n",
       "      <td>29.9</td>\n",
       "    </tr>\n",
       "  </tbody>\n",
       "</table>\n",
       "</div>"
      ],
      "text/plain": [
       "                         GSP  Inactive_rate  Obesity_rate  Diabete_rate  \\\n",
       "states                                                                    \n",
       "Alabama                42.67           31.9          35.6          13.5   \n",
       "Alaska                 81.80           22.0          29.8           7.6   \n",
       "Arizona                43.27           24.7          28.4          10.1   \n",
       "Arkansas               41.13           34.2          34.5          12.6   \n",
       "California             61.92           20.0          24.2          10.0   \n",
       "Colorado               58.01           17.9          20.2           6.8   \n",
       "Connecticut            72.33           23.5          25.3           9.3   \n",
       "Delaware               69.93           29.4          29.7          11.5   \n",
       "District of Columbia  181.19           19.4          22.1           8.5   \n",
       "Florida                42.59           26.2          26.8          11.3   \n",
       "Georgia                48.57           27.3          30.7          11.3   \n",
       "Hawaii                 55.59           22.5          22.7           8.5   \n",
       "Idaho                  39.39           21.2          28.6           8.1   \n",
       "Illinois               59.47           24.8          30.8           9.9   \n",
       "Indiana                49.33           29.4          31.3          11.4   \n",
       "Iowa                   52.81           26.3          32.1           8.8   \n",
       "Kansas                 50.22           26.5          34.2           9.7   \n",
       "Kentucky               41.59           32.5          34.6          13.4   \n",
       "Louisiana              54.16           31.9          36.2          12.7   \n",
       "Maine                  41.48           24.8          30.0           9.9   \n",
       "Maryland               60.10           24.1          28.9          10.3   \n",
       "Massachusetts          69.71           26.5          24.3           8.9   \n",
       "Michigan               46.59           25.5          31.2          10.7   \n",
       "Minnesota              60.26           21.8          26.1           7.6   \n",
       "Mississippi            35.72           36.8          35.6          14.7   \n",
       "Missouri               47.21           27.0          32.4          11.5   \n",
       "Montana                44.31           22.5          23.6           7.9   \n",
       "Nebraska               59.18           25.3          31.4           8.8   \n",
       "Nevada                 48.64           24.7          26.7           9.7   \n",
       "New Hampshire          53.83           22.6          26.3           8.1   \n",
       "New Jersey             64.07           27.2          25.6           9.0   \n",
       "New Mexico             41.55           22.6          28.8          11.5   \n",
       "New York               72.97           29.3          25.0           9.8   \n",
       "North Carolina         50.16           26.2          30.1          10.7   \n",
       "North Dakota           70.93           26.8          21.0           8.7   \n",
       "Ohio                   51.05           27.0          29.8          11.0   \n",
       "Oklahoma               46.29           33.2          33.9          11.7   \n",
       "Oregon                 56.01           18.8          30.1          10.7   \n",
       "Pennsylvania           52.93           27.8          30.0          10.4   \n",
       "Rhode Island           53.32           28.1          26.0           9.0   \n",
       "South Carolina         40.21           26.7          31.7          11.8   \n",
       "South Dakota           51.90           21.5          30.4           9.3   \n",
       "Tennessee              46.53           30.4          33.8          12.7   \n",
       "Texas                  59.99           29.5          32.4          11.4   \n",
       "Utah                   48.97           20.3          24.5           8.0   \n",
       "Vermont                47.52           22.2          25.1           8.2   \n",
       "Virginia               56.89           25.1          29.2          10.3   \n",
       "Washington             62.21           19.0          26.4           8.4   \n",
       "West Virginia          38.57           30.8          35.6          14.5   \n",
       "Wisconsin              51.46           21.6          30.7           8.4   \n",
       "Wyoming                68.54           26.2          29.0           8.4   \n",
       "\n",
       "                      Hypertension_rate  \n",
       "states                                   \n",
       "Alabama                            40.4  \n",
       "Alaska                             27.5  \n",
       "Arizona                            30.8  \n",
       "Arkansas                           39.3  \n",
       "California                         28.5  \n",
       "Colorado                           25.7  \n",
       "Connecticut                        30.4  \n",
       "Delaware                           34.5  \n",
       "District of Columbia               29.4  \n",
       "Florida                            33.5  \n",
       "Georgia                            36.2  \n",
       "Hawaii                             32.0  \n",
       "Idaho                              31.2  \n",
       "Illinois                           30.8  \n",
       "Indiana                            32.4  \n",
       "Iowa                               30.6  \n",
       "Kansas                             31.6  \n",
       "Kentucky                           39.0  \n",
       "Louisiana                          39.3  \n",
       "Maine                              34.1  \n",
       "Maryland                           32.5  \n",
       "Massachusetts                      29.6  \n",
       "Michigan                           33.1  \n",
       "Minnesota                          26.3  \n",
       "Mississippi                        42.4  \n",
       "Missouri                           34.1  \n",
       "Montana                            29.1  \n",
       "Nebraska                           29.9  \n",
       "Nevada                             28.3  \n",
       "New Hampshire                      29.2  \n",
       "New Jersey                         30.9  \n",
       "New Mexico                         30.0  \n",
       "New York                           29.3  \n",
       "North Carolina                     35.2  \n",
       "North Dakota                       30.4  \n",
       "Ohio                               34.3  \n",
       "Oklahoma                           36.2  \n",
       "Oregon                             30.1  \n",
       "Pennsylvania                       32.5  \n",
       "Rhode Island                       32.4  \n",
       "South Carolina                     37.8  \n",
       "South Dakota                       29.9  \n",
       "Tennessee                          38.5  \n",
       "Texas                              29.5  \n",
       "Utah                               23.6  \n",
       "Vermont                            29.4  \n",
       "Virginia                           33.2  \n",
       "Washington                         29.7  \n",
       "West Virginia                      42.7  \n",
       "Wisconsin                          29.6  \n",
       "Wyoming                            29.9  "
      ]
     },
     "execution_count": 83,
     "metadata": {},
     "output_type": "execute_result"
    }
   ],
   "source": [
    "data2015.set_index('states')"
   ]
  },
  {
   "cell_type": "code",
   "execution_count": 87,
   "metadata": {
    "collapsed": false
   },
   "outputs": [
    {
     "data": {
      "text/plain": [
       "array([[<matplotlib.axes._subplots.AxesSubplot object at 0x11ff8e590>,\n",
       "        <matplotlib.axes._subplots.AxesSubplot object at 0x120ed7e50>,\n",
       "        <matplotlib.axes._subplots.AxesSubplot object at 0x12187efd0>,\n",
       "        <matplotlib.axes._subplots.AxesSubplot object at 0x1218f6950>,\n",
       "        <matplotlib.axes._subplots.AxesSubplot object at 0x121975990>],\n",
       "       [<matplotlib.axes._subplots.AxesSubplot object at 0x121917290>,\n",
       "        <matplotlib.axes._subplots.AxesSubplot object at 0x121b99950>,\n",
       "        <matplotlib.axes._subplots.AxesSubplot object at 0x121d1d7d0>,\n",
       "        <matplotlib.axes._subplots.AxesSubplot object at 0x121d7ef90>,\n",
       "        <matplotlib.axes._subplots.AxesSubplot object at 0x121e02f10>],\n",
       "       [<matplotlib.axes._subplots.AxesSubplot object at 0x121e5ce50>,\n",
       "        <matplotlib.axes._subplots.AxesSubplot object at 0x121ee9dd0>,\n",
       "        <matplotlib.axes._subplots.AxesSubplot object at 0x12206bc50>,\n",
       "        <matplotlib.axes._subplots.AxesSubplot object at 0x1220dae50>,\n",
       "        <matplotlib.axes._subplots.AxesSubplot object at 0x12225dcd0>],\n",
       "       [<matplotlib.axes._subplots.AxesSubplot object at 0x1222c2c10>,\n",
       "        <matplotlib.axes._subplots.AxesSubplot object at 0x122344a90>,\n",
       "        <matplotlib.axes._subplots.AxesSubplot object at 0x1223ad790>,\n",
       "        <matplotlib.axes._subplots.AxesSubplot object at 0x122435890>,\n",
       "        <matplotlib.axes._subplots.AxesSubplot object at 0x1224b8710>],\n",
       "       [<matplotlib.axes._subplots.AxesSubplot object at 0x122527190>,\n",
       "        <matplotlib.axes._subplots.AxesSubplot object at 0x12259dfd0>,\n",
       "        <matplotlib.axes._subplots.AxesSubplot object at 0x122711050>,\n",
       "        <matplotlib.axes._subplots.AxesSubplot object at 0x122783f90>,\n",
       "        <matplotlib.axes._subplots.AxesSubplot object at 0x1227befd0>]], dtype=object)"
      ]
     },
     "execution_count": 87,
     "metadata": {},
     "output_type": "execute_result"
    },
    {
     "data": {
      "image/png": "[encoded data removed]",
      "text/plain": [
       "<matplotlib.figure.Figure at 0x11fd1aed0>"
      ]
     },
     "metadata": {},
     "output_type": "display_data"
    }
   ],
   "source": [
    "pandas.scatter_matrix(data2015, figsize = (10,10))"
   ]
  },
  {
   "cell_type": "code",
   "execution_count": 88,
   "metadata": {
    "collapsed": true
   },
   "outputs": [],
   "source": [
    "regressor = sklearn.linear_model.TheilSenRegressor()"
   ]
  },
  {
   "cell_type": "code",
   "execution_count": 89,
   "metadata": {
    "collapsed": true
   },
   "outputs": [],
   "source": [
    "X = data2015[ ['GSP', 'Inactive_rate', 'Diabete_rate', 'Hypertension_rate'] ]\n",
    "# prediction y-axis = price\n",
    "y = data2015.Obesity_rate"
   ]
  },
  {
   "cell_type": "code",
   "execution_count": 90,
   "metadata": {
    "collapsed": false
   },
   "outputs": [
    {
     "data": {
      "text/plain": [
       "TheilSenRegressor(copy_X=True, fit_intercept=True, max_iter=300,\n",
       "         max_subpopulation=10000, n_jobs=1, n_subsamples=None,\n",
       "         random_state=None, tol=0.001, verbose=False)"
      ]
     },
     "execution_count": 90,
     "metadata": {},
     "output_type": "execute_result"
    }
   ],
   "source": [
    "regressor.fit(X,y)"
   ]
  },
  {
   "cell_type": "code",
   "execution_count": 92,
   "metadata": {
    "collapsed": false
   },
   "outputs": [
    {
     "data": {
      "text/plain": [
       "array([-0.04202165,  0.15158722,  0.81872253,  0.19646466])"
      ]
     },
     "execution_count": 92,
     "metadata": {},
     "output_type": "execute_result"
    }
   ],
   "source": [
    "regressor.coef_"
   ]
  },
  {
   "cell_type": "code",
   "execution_count": 93,
   "metadata": {
    "collapsed": true
   },
   "outputs": [],
   "source": [
    "ols = sklearn.linear_model.LinearRegression()"
   ]
  },
  {
   "cell_type": "code",
   "execution_count": 95,
   "metadata": {
    "collapsed": true
   },
   "outputs": [],
   "source": [
    "X = data2015[ ['GSP', 'Inactive_rate', 'Diabete_rate', 'Hypertension_rate'] ]\n",
    "# prediction y-axis = price\n",
    "y = data2015.Obesity_rate"
   ]
  },
  {
   "cell_type": "code",
   "execution_count": 96,
   "metadata": {
    "collapsed": false
   },
   "outputs": [
    {
     "data": {
      "text/plain": [
       "LinearRegression(copy_X=True, fit_intercept=True, n_jobs=1, normalize=False)"
      ]
     },
     "execution_count": 96,
     "metadata": {},
     "output_type": "execute_result"
    }
   ],
   "source": [
    "ols.fit(X,y)"
   ]
  },
  {
   "cell_type": "code",
   "execution_count": 97,
   "metadata": {
    "collapsed": false
   },
   "outputs": [
    {
     "data": {
      "text/plain": [
       "array([-0.03399168,  0.12697257,  0.9078203 ,  0.19198792])"
      ]
     },
     "execution_count": 97,
     "metadata": {},
     "output_type": "execute_result"
    }
   ],
   "source": [
    "ols.coef_"
   ]
  },
  {
   "cell_type": "markdown",
   "metadata": {},
   "source": [
    "<p>Both model show that the following:</p>\n",
    "<ul>\n",
    "    <li>The increase of GSP (the richer of the people), the lower of obesity rate.  We can probably look into the number of gym memebership to confirm that.</li>\n",
    "    <li>The increase of inactive rate, diabete rate, and hypertension rate contribute to the increase of obesity</li>\n",
    "    \n",
    "</ul>"
   ]
  },
  {
   "cell_type": "code",
   "execution_count": 99,
   "metadata": {
    "collapsed": true
   },
   "outputs": [],
   "source": [
    "obesity_prediction = ols.predict(X)"
   ]
  },
  {
   "cell_type": "code",
   "execution_count": 100,
   "metadata": {
    "collapsed": false
   },
   "outputs": [
    {
     "data": {
      "text/plain": [
       "<matplotlib.collections.PathCollection at 0x120525890>"
      ]
     },
     "execution_count": 100,
     "metadata": {},
     "output_type": "execute_result"
    },
    {
     "data": {
      "image/png": "[encoded data removed]",
      "text/plain": [
       "<matplotlib.figure.Figure at 0x122f51a50>"
      ]
     },
     "metadata": {},
     "output_type": "display_data"
    }
   ],
   "source": [
    "matplotlib.pyplot.scatter(data2015['Obesity_rate'], obesity_prediction)"
   ]
  },
  {
   "cell_type": "markdown",
   "metadata": {},
   "source": [
    "<h3>Next Steps</h3>\n",
    "<ul>\n",
    "    <li>look into if the increase of GSP result in increase of gym membership</li>\n",
    "    <li>look into if the increase of gym membership result in decrease of inactivite rate and obesity rate</li>\n",
    "    <li>test the above with the states with the higher increase of GSP over the years (2012- 2015)</li>\n",
    "    <li>check to see if the same trend also happen in Australia, Europe and Asia</li>\n",
    "</ul"
   ]
  }
 ],
 "metadata": {
  "anaconda-cloud": {},
  "kernelspec": {
   "display_name": "Python [conda root]",
   "language": "python",
   "name": "conda-root-py"
  },
  "language_info": {
   "codemirror_mode": {
    "name": "ipython",
    "version": 2
   },
   "file_extension": ".py",
   "mimetype": "text/x-python",
   "name": "python",
   "nbconvert_exporter": "python",
   "pygments_lexer": "ipython2",
   "version": "2.7.12"
  }
 },
 "nbformat": 4,
 "nbformat_minor": 1
}
